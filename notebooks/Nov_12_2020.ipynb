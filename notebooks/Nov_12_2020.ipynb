{
 "cells": [
  {
   "cell_type": "markdown",
   "metadata": {},
   "source": [
    "# Last time\n",
    "\n",
    "Introduction\n",
    "\n",
    "- Tools\n",
    "    - Cloud: Google Colaboratory\n",
    "    - Local: Anaconda Python\n",
    "    \n",
    "- Jupyter Notebook IDE\n",
    "\n",
    "- Resources\n",
    "    - https://kaggle.com\n",
    "    - https://github.com/frahlg/UBC-NAME\n",
    "    \n",
    "### Assignment\n",
    "\n",
    "- Merge .xlsx/.csv files, time-series\n",
    "- Explanatory statistics\n",
    "    - You are free to explore.\n",
    "- Filter data\n",
    "    - Based on your previous expertise. Think of what you need to filter.\n",
    "    - What is 'bad' data?\n",
    "- Visualise the data.\n",
    "    - Think histograms, line-plots and bar-charts. Use ```matplotlib```\n",
    "- Export data to new format, preferably both .xlsx and .hd5.\n",
    "\n",
    "\n",
    "# Today 12th Nov\n",
    "\n",
    "- Discussions\n",
    "    - Checkup\n",
    "    - Groups?\n",
    "    - Walk through of problems...\n",
    "- Plan ahead for IoT workshop\n",
    "    - Planned for 24th Nov, 1.5h.\n",
    "    - Introduction level\n",
    "- **If time permits: ML. :) **\n"
   ]
  },
  {
   "cell_type": "code",
   "execution_count": 9,
   "metadata": {},
   "outputs": [],
   "source": [
    "# File handling...\n",
    "\n",
    "# All the files .. GITHUB\n",
    "\n",
    "\n"
   ]
  },
  {
   "cell_type": "code",
   "execution_count": 58,
   "metadata": {},
   "outputs": [],
   "source": [
    "import pandas as pd"
   ]
  },
  {
   "cell_type": "code",
   "execution_count": 59,
   "metadata": {},
   "outputs": [],
   "source": [
    "\n",
    "# Files\n",
    "\n",
    "# NOTE the \"?raw=true\"\n",
    "# https://github.com/frahlg/UBC-NAME/blob/master/data/dataset_ship1/out_1.xlsx?raw=true\n",
    "\n",
    "\n",
    "df = pd.read_excel('https://github.com/frahlg/UBC-NAME/blob/master/data/dataset_ship1/out_0.xlsx?raw=true',index_col=0)\n",
    "df2 = pd.read_excel('https://github.com/frahlg/UBC-NAME/blob/master/data/dataset_ship1/out_1.xlsx?raw=true',index_col=0)\n",
    "\n",
    "https://github.com/frahlg/UBC-NAME/blob/master/data/dataset_ship1/out_0.xlsx?raw=true"
   ]
  },
  {
   "cell_type": "code",
   "execution_count": 72,
   "metadata": {},
   "outputs": [],
   "source": [
    "# If the file is uploaded in the same folder as the Notebook.\n",
    "# That is locally or if you upload via the web interface\n",
    "\n",
    "df = pd.read_excel('out_0.xlsx')"
   ]
  },
  {
   "cell_type": "code",
   "execution_count": 61,
   "metadata": {},
   "outputs": [],
   "source": [
    "# You could write several lines of code ...\n",
    "\n",
    "df0 = pd.read_excel(f'https://github.com/frahlg/UBC-NAME/blob/master/data/dataset_ship1/out_0.xlsx?raw=true',index_col=0)\n",
    "df1 = pd.read_excel(f'https://github.com/frahlg/UBC-NAME/blob/master/data/dataset_ship1/out_1.xlsx?raw=true',index_col=0)\n",
    "\n",
    "# and so on ...\n",
    "\n",
    "# But what if you have hundreds of files?\n",
    "\n"
   ]
  },
  {
   "cell_type": "code",
   "execution_count": 62,
   "metadata": {},
   "outputs": [],
   "source": [
    "# Behold - the FOR loop!"
   ]
  },
  {
   "cell_type": "code",
   "execution_count": 63,
   "metadata": {},
   "outputs": [
    {
     "name": "stdout",
     "output_type": "stream",
     "text": [
      "0\n",
      "1\n",
      "2\n",
      "3\n",
      "4\n",
      "5\n",
      "6\n"
     ]
    }
   ],
   "source": [
    "for i in range(7):\n",
    "    print(i)"
   ]
  },
  {
   "cell_type": "code",
   "execution_count": null,
   "metadata": {},
   "outputs": [],
   "source": []
  },
  {
   "cell_type": "code",
   "execution_count": 64,
   "metadata": {},
   "outputs": [],
   "source": [
    "all_data = pd.DataFrame()\n",
    "\n",
    "for n in range(7):\n",
    "    df = pd.read_excel(f'https://github.com/frahlg/UBC-NAME/blob/master/data/dataset_ship1/out_{n}.xlsx?raw=true',index_col=0)\n",
    "    all_data = all_data.append(df)"
   ]
  },
  {
   "cell_type": "code",
   "execution_count": 65,
   "metadata": {},
   "outputs": [
    {
     "data": {
      "text/html": [
       "<div>\n",
       "<style scoped>\n",
       "    .dataframe tbody tr th:only-of-type {\n",
       "        vertical-align: middle;\n",
       "    }\n",
       "\n",
       "    .dataframe tbody tr th {\n",
       "        vertical-align: top;\n",
       "    }\n",
       "\n",
       "    .dataframe thead th {\n",
       "        text-align: right;\n",
       "    }\n",
       "</style>\n",
       "<table border=\"1\" class=\"dataframe\">\n",
       "  <thead>\n",
       "    <tr style=\"text-align: right;\">\n",
       "      <th></th>\n",
       "      <th>Consump1 Rate (kg/h)</th>\n",
       "      <th>Consump2 Rate  (kg/h)</th>\n",
       "      <th>Eng1 Tot1 Mass (kg)</th>\n",
       "      <th>Eng1 Tot2 Mass (kg)</th>\n",
       "      <th>Eng2 Tot1 Mass (kg)</th>\n",
       "      <th>Eng2 Tot2 Mass (kg)</th>\n",
       "      <th>Torque 1 (kNm)</th>\n",
       "      <th>Speed 1 (rpm)</th>\n",
       "      <th>Power1 (kW)</th>\n",
       "      <th>SpeedlogSpeed (kn)</th>\n",
       "      <th>Gps Speed (kn)</th>\n",
       "      <th>Aux Power1 (kW)</th>\n",
       "    </tr>\n",
       "  </thead>\n",
       "  <tbody>\n",
       "    <tr>\n",
       "      <th>2018-12-09 13:09:35</th>\n",
       "      <td>822.5</td>\n",
       "      <td>122.2</td>\n",
       "      <td>1938946</td>\n",
       "      <td>76908</td>\n",
       "      <td>260993</td>\n",
       "      <td>51114</td>\n",
       "      <td>536.0</td>\n",
       "      <td>73.0</td>\n",
       "      <td>4110.0</td>\n",
       "      <td>13.2</td>\n",
       "      <td>12.4</td>\n",
       "      <td>362</td>\n",
       "    </tr>\n",
       "    <tr>\n",
       "      <th>2018-12-09 13:10:35</th>\n",
       "      <td>840.1</td>\n",
       "      <td>110.0</td>\n",
       "      <td>1938946</td>\n",
       "      <td>76908</td>\n",
       "      <td>260993</td>\n",
       "      <td>51114</td>\n",
       "      <td>542.0</td>\n",
       "      <td>73.0</td>\n",
       "      <td>4155.0</td>\n",
       "      <td>13.1</td>\n",
       "      <td>12.4</td>\n",
       "      <td>374</td>\n",
       "    </tr>\n",
       "    <tr>\n",
       "      <th>2018-12-09 13:11:35</th>\n",
       "      <td>852.9</td>\n",
       "      <td>105.2</td>\n",
       "      <td>1938992</td>\n",
       "      <td>76908</td>\n",
       "      <td>260998</td>\n",
       "      <td>51114</td>\n",
       "      <td>546.0</td>\n",
       "      <td>73.0</td>\n",
       "      <td>4182.0</td>\n",
       "      <td>13.1</td>\n",
       "      <td>12.4</td>\n",
       "      <td>361</td>\n",
       "    </tr>\n",
       "    <tr>\n",
       "      <th>2018-12-09 13:12:35</th>\n",
       "      <td>856</td>\n",
       "      <td>102.3</td>\n",
       "      <td>1938992</td>\n",
       "      <td>76908</td>\n",
       "      <td>260998</td>\n",
       "      <td>51114</td>\n",
       "      <td>548.0</td>\n",
       "      <td>73.0</td>\n",
       "      <td>4205.0</td>\n",
       "      <td>13.1</td>\n",
       "      <td>12.4</td>\n",
       "      <td>360</td>\n",
       "    </tr>\n",
       "    <tr>\n",
       "      <th>2018-12-09 13:13:35</th>\n",
       "      <td>855.3</td>\n",
       "      <td>94.5</td>\n",
       "      <td>1938992</td>\n",
       "      <td>76908</td>\n",
       "      <td>260998</td>\n",
       "      <td>51114</td>\n",
       "      <td>544.0</td>\n",
       "      <td>73.0</td>\n",
       "      <td>4165.0</td>\n",
       "      <td>13.2</td>\n",
       "      <td>12.4</td>\n",
       "      <td>358</td>\n",
       "    </tr>\n",
       "    <tr>\n",
       "      <th>...</th>\n",
       "      <td>...</td>\n",
       "      <td>...</td>\n",
       "      <td>...</td>\n",
       "      <td>...</td>\n",
       "      <td>...</td>\n",
       "      <td>...</td>\n",
       "      <td>...</td>\n",
       "      <td>...</td>\n",
       "      <td>...</td>\n",
       "      <td>...</td>\n",
       "      <td>...</td>\n",
       "      <td>...</td>\n",
       "    </tr>\n",
       "    <tr>\n",
       "      <th>2018-12-09 13:04:35</th>\n",
       "      <td>846.4</td>\n",
       "      <td>101.3</td>\n",
       "      <td>1938855</td>\n",
       "      <td>76908</td>\n",
       "      <td>260981</td>\n",
       "      <td>51114</td>\n",
       "      <td>541.0</td>\n",
       "      <td>73.0</td>\n",
       "      <td>4149.0</td>\n",
       "      <td>13.2</td>\n",
       "      <td>12.4</td>\n",
       "      <td>370</td>\n",
       "    </tr>\n",
       "    <tr>\n",
       "      <th>2018-12-09 13:05:35</th>\n",
       "      <td>827.5</td>\n",
       "      <td>117.1</td>\n",
       "      <td>1938901</td>\n",
       "      <td>76908</td>\n",
       "      <td>260987</td>\n",
       "      <td>51114</td>\n",
       "      <td>539.0</td>\n",
       "      <td>73.0</td>\n",
       "      <td>4137.0</td>\n",
       "      <td>13.2</td>\n",
       "      <td>12.4</td>\n",
       "      <td>361</td>\n",
       "    </tr>\n",
       "    <tr>\n",
       "      <th>2018-12-09 13:06:35</th>\n",
       "      <td>840.1</td>\n",
       "      <td>94.9</td>\n",
       "      <td>1938901</td>\n",
       "      <td>76908</td>\n",
       "      <td>260987</td>\n",
       "      <td>51114</td>\n",
       "      <td>534.0</td>\n",
       "      <td>73.0</td>\n",
       "      <td>4101.0</td>\n",
       "      <td>13.2</td>\n",
       "      <td>12.5</td>\n",
       "      <td>357</td>\n",
       "    </tr>\n",
       "    <tr>\n",
       "      <th>2018-12-09 13:07:35</th>\n",
       "      <td>811.1</td>\n",
       "      <td>122.1</td>\n",
       "      <td>1938901</td>\n",
       "      <td>76908</td>\n",
       "      <td>260987</td>\n",
       "      <td>51114</td>\n",
       "      <td>531.0</td>\n",
       "      <td>73.0</td>\n",
       "      <td>4078.0</td>\n",
       "      <td>13.3</td>\n",
       "      <td>12.5</td>\n",
       "      <td>360</td>\n",
       "    </tr>\n",
       "    <tr>\n",
       "      <th>2018-12-09 13:08:35</th>\n",
       "      <td>832.1</td>\n",
       "      <td>98.8</td>\n",
       "      <td>1938946</td>\n",
       "      <td>76908</td>\n",
       "      <td>260993</td>\n",
       "      <td>51114</td>\n",
       "      <td>535.0</td>\n",
       "      <td>73.0</td>\n",
       "      <td>4097.0</td>\n",
       "      <td>13.2</td>\n",
       "      <td>12.4</td>\n",
       "      <td>363</td>\n",
       "    </tr>\n",
       "  </tbody>\n",
       "</table>\n",
       "<p>97757 rows × 12 columns</p>\n",
       "</div>"
      ],
      "text/plain": [
       "                    Consump1 Rate (kg/h)  Consump2 Rate  (kg/h)  \\\n",
       "2018-12-09 13:09:35                822.5                  122.2   \n",
       "2018-12-09 13:10:35                840.1                  110.0   \n",
       "2018-12-09 13:11:35                852.9                  105.2   \n",
       "2018-12-09 13:12:35                  856                  102.3   \n",
       "2018-12-09 13:13:35                855.3                   94.5   \n",
       "...                                  ...                    ...   \n",
       "2018-12-09 13:04:35                846.4                  101.3   \n",
       "2018-12-09 13:05:35                827.5                  117.1   \n",
       "2018-12-09 13:06:35                840.1                   94.9   \n",
       "2018-12-09 13:07:35                811.1                  122.1   \n",
       "2018-12-09 13:08:35                832.1                   98.8   \n",
       "\n",
       "                     Eng1 Tot1 Mass (kg)  Eng1 Tot2 Mass (kg)  \\\n",
       "2018-12-09 13:09:35              1938946                76908   \n",
       "2018-12-09 13:10:35              1938946                76908   \n",
       "2018-12-09 13:11:35              1938992                76908   \n",
       "2018-12-09 13:12:35              1938992                76908   \n",
       "2018-12-09 13:13:35              1938992                76908   \n",
       "...                                  ...                  ...   \n",
       "2018-12-09 13:04:35              1938855                76908   \n",
       "2018-12-09 13:05:35              1938901                76908   \n",
       "2018-12-09 13:06:35              1938901                76908   \n",
       "2018-12-09 13:07:35              1938901                76908   \n",
       "2018-12-09 13:08:35              1938946                76908   \n",
       "\n",
       "                     Eng2 Tot1 Mass (kg)  Eng2 Tot2 Mass (kg)  Torque 1 (kNm)  \\\n",
       "2018-12-09 13:09:35               260993                51114           536.0   \n",
       "2018-12-09 13:10:35               260993                51114           542.0   \n",
       "2018-12-09 13:11:35               260998                51114           546.0   \n",
       "2018-12-09 13:12:35               260998                51114           548.0   \n",
       "2018-12-09 13:13:35               260998                51114           544.0   \n",
       "...                                  ...                  ...             ...   \n",
       "2018-12-09 13:04:35               260981                51114           541.0   \n",
       "2018-12-09 13:05:35               260987                51114           539.0   \n",
       "2018-12-09 13:06:35               260987                51114           534.0   \n",
       "2018-12-09 13:07:35               260987                51114           531.0   \n",
       "2018-12-09 13:08:35               260993                51114           535.0   \n",
       "\n",
       "                     Speed 1 (rpm)  Power1 (kW)  SpeedlogSpeed (kn)  \\\n",
       "2018-12-09 13:09:35           73.0       4110.0                13.2   \n",
       "2018-12-09 13:10:35           73.0       4155.0                13.1   \n",
       "2018-12-09 13:11:35           73.0       4182.0                13.1   \n",
       "2018-12-09 13:12:35           73.0       4205.0                13.1   \n",
       "2018-12-09 13:13:35           73.0       4165.0                13.2   \n",
       "...                            ...          ...                 ...   \n",
       "2018-12-09 13:04:35           73.0       4149.0                13.2   \n",
       "2018-12-09 13:05:35           73.0       4137.0                13.2   \n",
       "2018-12-09 13:06:35           73.0       4101.0                13.2   \n",
       "2018-12-09 13:07:35           73.0       4078.0                13.3   \n",
       "2018-12-09 13:08:35           73.0       4097.0                13.2   \n",
       "\n",
       "                     Gps Speed (kn) Aux Power1 (kW)  \n",
       "2018-12-09 13:09:35            12.4             362  \n",
       "2018-12-09 13:10:35            12.4             374  \n",
       "2018-12-09 13:11:35            12.4             361  \n",
       "2018-12-09 13:12:35            12.4             360  \n",
       "2018-12-09 13:13:35            12.4             358  \n",
       "...                             ...             ...  \n",
       "2018-12-09 13:04:35            12.4             370  \n",
       "2018-12-09 13:05:35            12.4             361  \n",
       "2018-12-09 13:06:35            12.5             357  \n",
       "2018-12-09 13:07:35            12.5             360  \n",
       "2018-12-09 13:08:35            12.4             363  \n",
       "\n",
       "[97757 rows x 12 columns]"
      ]
     },
     "execution_count": 65,
     "metadata": {},
     "output_type": "execute_result"
    }
   ],
   "source": [
    "all_data"
   ]
  },
  {
   "cell_type": "code",
   "execution_count": 66,
   "metadata": {},
   "outputs": [],
   "source": [
    "all_data.to_excel('my_out_data.xlsx')"
   ]
  },
  {
   "cell_type": "code",
   "execution_count": null,
   "metadata": {},
   "outputs": [],
   "source": []
  },
  {
   "cell_type": "code",
   "execution_count": null,
   "metadata": {},
   "outputs": [],
   "source": []
  },
  {
   "cell_type": "code",
   "execution_count": 73,
   "metadata": {},
   "outputs": [],
   "source": [
    "import pandas as pd\n",
    "import numpy as np"
   ]
  },
  {
   "cell_type": "code",
   "execution_count": 74,
   "metadata": {},
   "outputs": [],
   "source": [
    "database = '../data/dataset_ship1/processed/merged_datetime_10min.hd5' # Already made"
   ]
  },
  {
   "cell_type": "code",
   "execution_count": 75,
   "metadata": {},
   "outputs": [],
   "source": [
    "df = pd.read_hdf(database,'table')"
   ]
  },
  {
   "cell_type": "code",
   "execution_count": 77,
   "metadata": {},
   "outputs": [
    {
     "data": {
      "text/html": [
       "<div>\n",
       "<style scoped>\n",
       "    .dataframe tbody tr th:only-of-type {\n",
       "        vertical-align: middle;\n",
       "    }\n",
       "\n",
       "    .dataframe tbody tr th {\n",
       "        vertical-align: top;\n",
       "    }\n",
       "\n",
       "    .dataframe thead th {\n",
       "        text-align: right;\n",
       "    }\n",
       "</style>\n",
       "<table border=\"1\" class=\"dataframe\">\n",
       "  <thead>\n",
       "    <tr style=\"text-align: right;\">\n",
       "      <th></th>\n",
       "      <th>Aux Power1 (kW)</th>\n",
       "      <th>Consump1 Rate (kg/h)</th>\n",
       "      <th>Consump2 Rate  (kg/h)</th>\n",
       "      <th>Eng1 Tot1 Mass (kg)</th>\n",
       "      <th>Eng1 Tot2 Mass (kg)</th>\n",
       "      <th>Eng2 Tot1 Mass (kg)</th>\n",
       "      <th>Eng2 Tot2 Mass (kg)</th>\n",
       "      <th>Gps Speed (kn)</th>\n",
       "      <th>Power1 (kW)</th>\n",
       "      <th>Speed 1 (rpm)</th>\n",
       "      <th>SpeedlogSpeed (kn)</th>\n",
       "      <th>Torque 1 (kNm)</th>\n",
       "    </tr>\n",
       "  </thead>\n",
       "  <tbody>\n",
       "    <tr>\n",
       "      <th>2018-10-23 19:00:00</th>\n",
       "      <td>384.9</td>\n",
       "      <td>0.00</td>\n",
       "      <td>79.56</td>\n",
       "      <td>1040566.0</td>\n",
       "      <td>73799.0</td>\n",
       "      <td>155042.0</td>\n",
       "      <td>44964.3</td>\n",
       "      <td>0.11</td>\n",
       "      <td>0.0</td>\n",
       "      <td>0.0</td>\n",
       "      <td>0.0</td>\n",
       "      <td>6.7</td>\n",
       "    </tr>\n",
       "    <tr>\n",
       "      <th>2018-10-23 19:10:00</th>\n",
       "      <td>487.4</td>\n",
       "      <td>0.00</td>\n",
       "      <td>92.32</td>\n",
       "      <td>1040566.0</td>\n",
       "      <td>73799.0</td>\n",
       "      <td>155042.0</td>\n",
       "      <td>44977.7</td>\n",
       "      <td>0.13</td>\n",
       "      <td>0.0</td>\n",
       "      <td>0.0</td>\n",
       "      <td>0.0</td>\n",
       "      <td>6.0</td>\n",
       "    </tr>\n",
       "    <tr>\n",
       "      <th>2018-10-23 19:20:00</th>\n",
       "      <td>739.3</td>\n",
       "      <td>0.34</td>\n",
       "      <td>118.10</td>\n",
       "      <td>1040566.0</td>\n",
       "      <td>73799.0</td>\n",
       "      <td>155042.0</td>\n",
       "      <td>44995.1</td>\n",
       "      <td>0.11</td>\n",
       "      <td>40.0</td>\n",
       "      <td>3.2</td>\n",
       "      <td>0.0</td>\n",
       "      <td>20.7</td>\n",
       "    </tr>\n",
       "    <tr>\n",
       "      <th>2018-10-23 19:30:00</th>\n",
       "      <td>915.0</td>\n",
       "      <td>0.00</td>\n",
       "      <td>140.06</td>\n",
       "      <td>1040566.0</td>\n",
       "      <td>73799.0</td>\n",
       "      <td>155042.0</td>\n",
       "      <td>45016.7</td>\n",
       "      <td>0.21</td>\n",
       "      <td>20.3</td>\n",
       "      <td>1.2</td>\n",
       "      <td>0.0</td>\n",
       "      <td>13.5</td>\n",
       "    </tr>\n",
       "    <tr>\n",
       "      <th>2018-10-23 19:40:00</th>\n",
       "      <td>899.7</td>\n",
       "      <td>0.00</td>\n",
       "      <td>139.03</td>\n",
       "      <td>1040566.0</td>\n",
       "      <td>73799.0</td>\n",
       "      <td>155042.0</td>\n",
       "      <td>45040.0</td>\n",
       "      <td>0.37</td>\n",
       "      <td>85.6</td>\n",
       "      <td>4.9</td>\n",
       "      <td>0.0</td>\n",
       "      <td>26.6</td>\n",
       "    </tr>\n",
       "  </tbody>\n",
       "</table>\n",
       "</div>"
      ],
      "text/plain": [
       "                     Aux Power1 (kW)  Consump1 Rate (kg/h)  \\\n",
       "2018-10-23 19:00:00            384.9                  0.00   \n",
       "2018-10-23 19:10:00            487.4                  0.00   \n",
       "2018-10-23 19:20:00            739.3                  0.34   \n",
       "2018-10-23 19:30:00            915.0                  0.00   \n",
       "2018-10-23 19:40:00            899.7                  0.00   \n",
       "\n",
       "                     Consump2 Rate  (kg/h)  Eng1 Tot1 Mass (kg)  \\\n",
       "2018-10-23 19:00:00                  79.56            1040566.0   \n",
       "2018-10-23 19:10:00                  92.32            1040566.0   \n",
       "2018-10-23 19:20:00                 118.10            1040566.0   \n",
       "2018-10-23 19:30:00                 140.06            1040566.0   \n",
       "2018-10-23 19:40:00                 139.03            1040566.0   \n",
       "\n",
       "                     Eng1 Tot2 Mass (kg)  Eng2 Tot1 Mass (kg)  \\\n",
       "2018-10-23 19:00:00              73799.0             155042.0   \n",
       "2018-10-23 19:10:00              73799.0             155042.0   \n",
       "2018-10-23 19:20:00              73799.0             155042.0   \n",
       "2018-10-23 19:30:00              73799.0             155042.0   \n",
       "2018-10-23 19:40:00              73799.0             155042.0   \n",
       "\n",
       "                     Eng2 Tot2 Mass (kg)  Gps Speed (kn)  Power1 (kW)  \\\n",
       "2018-10-23 19:00:00              44964.3            0.11          0.0   \n",
       "2018-10-23 19:10:00              44977.7            0.13          0.0   \n",
       "2018-10-23 19:20:00              44995.1            0.11         40.0   \n",
       "2018-10-23 19:30:00              45016.7            0.21         20.3   \n",
       "2018-10-23 19:40:00              45040.0            0.37         85.6   \n",
       "\n",
       "                     Speed 1 (rpm)  SpeedlogSpeed (kn)  Torque 1 (kNm)  \n",
       "2018-10-23 19:00:00            0.0                 0.0             6.7  \n",
       "2018-10-23 19:10:00            0.0                 0.0             6.0  \n",
       "2018-10-23 19:20:00            3.2                 0.0            20.7  \n",
       "2018-10-23 19:30:00            1.2                 0.0            13.5  \n",
       "2018-10-23 19:40:00            4.9                 0.0            26.6  "
      ]
     },
     "execution_count": 77,
     "metadata": {},
     "output_type": "execute_result"
    }
   ],
   "source": [
    "df.head()"
   ]
  },
  {
   "cell_type": "code",
   "execution_count": 78,
   "metadata": {},
   "outputs": [
    {
     "data": {
      "text/plain": [
       "<matplotlib.axes._subplots.AxesSubplot at 0x7fc00dd474c0>"
      ]
     },
     "execution_count": 78,
     "metadata": {},
     "output_type": "execute_result"
    },
    {
     "data": {
      "image/png": "[encoded data removed]",
      "text/plain": [
       "<Figure size 432x288 with 1 Axes>"
      ]
     },
     "metadata": {
      "needs_background": "light"
     },
     "output_type": "display_data"
    }
   ],
   "source": [
    "df['2018-10-24':'2018-10-28'].plot()"
   ]
  },
  {
   "cell_type": "code",
   "execution_count": 85,
   "metadata": {},
   "outputs": [
    {
     "data": {
      "text/plain": [
       "<matplotlib.axes._subplots.AxesSubplot at 0x7fc00d46e040>"
      ]
     },
     "execution_count": 85,
     "metadata": {},
     "output_type": "execute_result"
    },
    {
     "data": {
      "image/png": "[encoded data removed]",
      "text/plain": [
       "<Figure size 432x288 with 1 Axes>"
      ]
     },
     "metadata": {
      "needs_background": "light"
     },
     "output_type": "display_data"
    }
   ],
   "source": [
    "df['Aux Power1 (kW)']['2018-12-12'].plot()"
   ]
  },
  {
   "cell_type": "code",
   "execution_count": 88,
   "metadata": {},
   "outputs": [
    {
     "data": {
      "text/plain": [
       "<matplotlib.axes._subplots.AxesSubplot at 0x7fc03d9e1c70>"
      ]
     },
     "execution_count": 88,
     "metadata": {},
     "output_type": "execute_result"
    },
    {
     "data": {
      "image/png": "[encoded data removed]",
      "text/plain": [
       "<Figure size 432x288 with 1 Axes>"
      ]
     },
     "metadata": {
      "needs_background": "light"
     },
     "output_type": "display_data"
    }
   ],
   "source": [
    "df['Aux Power1 (kW)']['2019-02'].hist(bins=40)"
   ]
  },
  {
   "cell_type": "code",
   "execution_count": 89,
   "metadata": {},
   "outputs": [
    {
     "data": {
      "text/html": [
       "<div>\n",
       "<style scoped>\n",
       "    .dataframe tbody tr th:only-of-type {\n",
       "        vertical-align: middle;\n",
       "    }\n",
       "\n",
       "    .dataframe tbody tr th {\n",
       "        vertical-align: top;\n",
       "    }\n",
       "\n",
       "    .dataframe thead th {\n",
       "        text-align: right;\n",
       "    }\n",
       "</style>\n",
       "<table border=\"1\" class=\"dataframe\">\n",
       "  <thead>\n",
       "    <tr style=\"text-align: right;\">\n",
       "      <th></th>\n",
       "      <th>Aux Power1 (kW)</th>\n",
       "      <th>Consump1 Rate (kg/h)</th>\n",
       "      <th>Consump2 Rate  (kg/h)</th>\n",
       "      <th>Eng1 Tot1 Mass (kg)</th>\n",
       "      <th>Eng1 Tot2 Mass (kg)</th>\n",
       "      <th>Eng2 Tot1 Mass (kg)</th>\n",
       "      <th>Eng2 Tot2 Mass (kg)</th>\n",
       "      <th>Gps Speed (kn)</th>\n",
       "      <th>Power1 (kW)</th>\n",
       "      <th>Speed 1 (rpm)</th>\n",
       "      <th>SpeedlogSpeed (kn)</th>\n",
       "      <th>Torque 1 (kNm)</th>\n",
       "    </tr>\n",
       "  </thead>\n",
       "  <tbody>\n",
       "    <tr>\n",
       "      <th>2019-02-07 22:10:00</th>\n",
       "      <td>271.1</td>\n",
       "      <td>4.58</td>\n",
       "      <td>73.54</td>\n",
       "      <td>3158245.0</td>\n",
       "      <td>93599.4</td>\n",
       "      <td>396187.0</td>\n",
       "      <td>60826.8</td>\n",
       "      <td>0.21</td>\n",
       "      <td>0.0</td>\n",
       "      <td>0.0</td>\n",
       "      <td>0.0</td>\n",
       "      <td>2.2</td>\n",
       "    </tr>\n",
       "    <tr>\n",
       "      <th>2019-02-07 22:20:00</th>\n",
       "      <td>286.0</td>\n",
       "      <td>3.10</td>\n",
       "      <td>76.09</td>\n",
       "      <td>3158245.0</td>\n",
       "      <td>93600.0</td>\n",
       "      <td>396187.0</td>\n",
       "      <td>60838.9</td>\n",
       "      <td>0.26</td>\n",
       "      <td>0.0</td>\n",
       "      <td>0.0</td>\n",
       "      <td>0.0</td>\n",
       "      <td>2.2</td>\n",
       "    </tr>\n",
       "    <tr>\n",
       "      <th>2019-02-07 22:30:00</th>\n",
       "      <td>280.1</td>\n",
       "      <td>2.62</td>\n",
       "      <td>75.24</td>\n",
       "      <td>3158245.0</td>\n",
       "      <td>93600.4</td>\n",
       "      <td>396187.0</td>\n",
       "      <td>60852.2</td>\n",
       "      <td>0.29</td>\n",
       "      <td>0.0</td>\n",
       "      <td>0.0</td>\n",
       "      <td>0.0</td>\n",
       "      <td>2.3</td>\n",
       "    </tr>\n",
       "    <tr>\n",
       "      <th>2019-02-07 22:40:00</th>\n",
       "      <td>299.5</td>\n",
       "      <td>1.75</td>\n",
       "      <td>78.84</td>\n",
       "      <td>3158245.0</td>\n",
       "      <td>93601.0</td>\n",
       "      <td>396187.0</td>\n",
       "      <td>60864.3</td>\n",
       "      <td>0.29</td>\n",
       "      <td>0.0</td>\n",
       "      <td>0.0</td>\n",
       "      <td>0.0</td>\n",
       "      <td>4.0</td>\n",
       "    </tr>\n",
       "    <tr>\n",
       "      <th>2019-02-07 22:50:00</th>\n",
       "      <td>285.1</td>\n",
       "      <td>1.21</td>\n",
       "      <td>76.10</td>\n",
       "      <td>3158245.0</td>\n",
       "      <td>93601.1</td>\n",
       "      <td>396187.0</td>\n",
       "      <td>60877.6</td>\n",
       "      <td>0.28</td>\n",
       "      <td>0.0</td>\n",
       "      <td>0.0</td>\n",
       "      <td>0.0</td>\n",
       "      <td>4.0</td>\n",
       "    </tr>\n",
       "    <tr>\n",
       "      <th>2019-02-07 23:40:00</th>\n",
       "      <td>286.5</td>\n",
       "      <td>11.34</td>\n",
       "      <td>76.42</td>\n",
       "      <td>3158245.0</td>\n",
       "      <td>93601.9</td>\n",
       "      <td>396187.0</td>\n",
       "      <td>60940.9</td>\n",
       "      <td>0.25</td>\n",
       "      <td>0.0</td>\n",
       "      <td>0.0</td>\n",
       "      <td>0.0</td>\n",
       "      <td>4.9</td>\n",
       "    </tr>\n",
       "    <tr>\n",
       "      <th>2019-02-08 01:40:00</th>\n",
       "      <td>272.5</td>\n",
       "      <td>10.45</td>\n",
       "      <td>74.02</td>\n",
       "      <td>3158245.0</td>\n",
       "      <td>93602.2</td>\n",
       "      <td>396187.0</td>\n",
       "      <td>61095.8</td>\n",
       "      <td>0.18</td>\n",
       "      <td>0.0</td>\n",
       "      <td>0.0</td>\n",
       "      <td>0.0</td>\n",
       "      <td>5.6</td>\n",
       "    </tr>\n",
       "    <tr>\n",
       "      <th>2019-02-08 03:40:00</th>\n",
       "      <td>299.4</td>\n",
       "      <td>11.66</td>\n",
       "      <td>78.92</td>\n",
       "      <td>3158245.0</td>\n",
       "      <td>93604.4</td>\n",
       "      <td>396187.0</td>\n",
       "      <td>61249.6</td>\n",
       "      <td>0.10</td>\n",
       "      <td>0.0</td>\n",
       "      <td>0.0</td>\n",
       "      <td>0.0</td>\n",
       "      <td>5.0</td>\n",
       "    </tr>\n",
       "    <tr>\n",
       "      <th>2019-02-08 07:40:00</th>\n",
       "      <td>272.4</td>\n",
       "      <td>11.29</td>\n",
       "      <td>74.13</td>\n",
       "      <td>3158245.0</td>\n",
       "      <td>93608.0</td>\n",
       "      <td>396187.0</td>\n",
       "      <td>61561.2</td>\n",
       "      <td>0.16</td>\n",
       "      <td>0.0</td>\n",
       "      <td>0.0</td>\n",
       "      <td>0.0</td>\n",
       "      <td>5.0</td>\n",
       "    </tr>\n",
       "    <tr>\n",
       "      <th>2019-02-08 09:40:00</th>\n",
       "      <td>282.9</td>\n",
       "      <td>10.55</td>\n",
       "      <td>76.32</td>\n",
       "      <td>3158245.0</td>\n",
       "      <td>93610.1</td>\n",
       "      <td>396187.0</td>\n",
       "      <td>61720.6</td>\n",
       "      <td>0.27</td>\n",
       "      <td>0.0</td>\n",
       "      <td>0.0</td>\n",
       "      <td>0.0</td>\n",
       "      <td>5.0</td>\n",
       "    </tr>\n",
       "    <tr>\n",
       "      <th>2019-02-08 11:40:00</th>\n",
       "      <td>247.2</td>\n",
       "      <td>11.80</td>\n",
       "      <td>70.23</td>\n",
       "      <td>3158245.0</td>\n",
       "      <td>93612.0</td>\n",
       "      <td>396187.0</td>\n",
       "      <td>61874.2</td>\n",
       "      <td>0.10</td>\n",
       "      <td>0.0</td>\n",
       "      <td>0.0</td>\n",
       "      <td>0.0</td>\n",
       "      <td>6.0</td>\n",
       "    </tr>\n",
       "    <tr>\n",
       "      <th>2019-02-08 13:40:00</th>\n",
       "      <td>259.1</td>\n",
       "      <td>10.93</td>\n",
       "      <td>71.98</td>\n",
       "      <td>3158245.0</td>\n",
       "      <td>93613.0</td>\n",
       "      <td>396187.0</td>\n",
       "      <td>62019.2</td>\n",
       "      <td>0.19</td>\n",
       "      <td>0.0</td>\n",
       "      <td>0.0</td>\n",
       "      <td>0.0</td>\n",
       "      <td>6.0</td>\n",
       "    </tr>\n",
       "  </tbody>\n",
       "</table>\n",
       "</div>"
      ],
      "text/plain": [
       "                     Aux Power1 (kW)  Consump1 Rate (kg/h)  \\\n",
       "2019-02-07 22:10:00            271.1                  4.58   \n",
       "2019-02-07 22:20:00            286.0                  3.10   \n",
       "2019-02-07 22:30:00            280.1                  2.62   \n",
       "2019-02-07 22:40:00            299.5                  1.75   \n",
       "2019-02-07 22:50:00            285.1                  1.21   \n",
       "2019-02-07 23:40:00            286.5                 11.34   \n",
       "2019-02-08 01:40:00            272.5                 10.45   \n",
       "2019-02-08 03:40:00            299.4                 11.66   \n",
       "2019-02-08 07:40:00            272.4                 11.29   \n",
       "2019-02-08 09:40:00            282.9                 10.55   \n",
       "2019-02-08 11:40:00            247.2                 11.80   \n",
       "2019-02-08 13:40:00            259.1                 10.93   \n",
       "\n",
       "                     Consump2 Rate  (kg/h)  Eng1 Tot1 Mass (kg)  \\\n",
       "2019-02-07 22:10:00                  73.54            3158245.0   \n",
       "2019-02-07 22:20:00                  76.09            3158245.0   \n",
       "2019-02-07 22:30:00                  75.24            3158245.0   \n",
       "2019-02-07 22:40:00                  78.84            3158245.0   \n",
       "2019-02-07 22:50:00                  76.10            3158245.0   \n",
       "2019-02-07 23:40:00                  76.42            3158245.0   \n",
       "2019-02-08 01:40:00                  74.02            3158245.0   \n",
       "2019-02-08 03:40:00                  78.92            3158245.0   \n",
       "2019-02-08 07:40:00                  74.13            3158245.0   \n",
       "2019-02-08 09:40:00                  76.32            3158245.0   \n",
       "2019-02-08 11:40:00                  70.23            3158245.0   \n",
       "2019-02-08 13:40:00                  71.98            3158245.0   \n",
       "\n",
       "                     Eng1 Tot2 Mass (kg)  Eng2 Tot1 Mass (kg)  \\\n",
       "2019-02-07 22:10:00              93599.4             396187.0   \n",
       "2019-02-07 22:20:00              93600.0             396187.0   \n",
       "2019-02-07 22:30:00              93600.4             396187.0   \n",
       "2019-02-07 22:40:00              93601.0             396187.0   \n",
       "2019-02-07 22:50:00              93601.1             396187.0   \n",
       "2019-02-07 23:40:00              93601.9             396187.0   \n",
       "2019-02-08 01:40:00              93602.2             396187.0   \n",
       "2019-02-08 03:40:00              93604.4             396187.0   \n",
       "2019-02-08 07:40:00              93608.0             396187.0   \n",
       "2019-02-08 09:40:00              93610.1             396187.0   \n",
       "2019-02-08 11:40:00              93612.0             396187.0   \n",
       "2019-02-08 13:40:00              93613.0             396187.0   \n",
       "\n",
       "                     Eng2 Tot2 Mass (kg)  Gps Speed (kn)  Power1 (kW)  \\\n",
       "2019-02-07 22:10:00              60826.8            0.21          0.0   \n",
       "2019-02-07 22:20:00              60838.9            0.26          0.0   \n",
       "2019-02-07 22:30:00              60852.2            0.29          0.0   \n",
       "2019-02-07 22:40:00              60864.3            0.29          0.0   \n",
       "2019-02-07 22:50:00              60877.6            0.28          0.0   \n",
       "2019-02-07 23:40:00              60940.9            0.25          0.0   \n",
       "2019-02-08 01:40:00              61095.8            0.18          0.0   \n",
       "2019-02-08 03:40:00              61249.6            0.10          0.0   \n",
       "2019-02-08 07:40:00              61561.2            0.16          0.0   \n",
       "2019-02-08 09:40:00              61720.6            0.27          0.0   \n",
       "2019-02-08 11:40:00              61874.2            0.10          0.0   \n",
       "2019-02-08 13:40:00              62019.2            0.19          0.0   \n",
       "\n",
       "                     Speed 1 (rpm)  SpeedlogSpeed (kn)  Torque 1 (kNm)  \n",
       "2019-02-07 22:10:00            0.0                 0.0             2.2  \n",
       "2019-02-07 22:20:00            0.0                 0.0             2.2  \n",
       "2019-02-07 22:30:00            0.0                 0.0             2.3  \n",
       "2019-02-07 22:40:00            0.0                 0.0             4.0  \n",
       "2019-02-07 22:50:00            0.0                 0.0             4.0  \n",
       "2019-02-07 23:40:00            0.0                 0.0             4.9  \n",
       "2019-02-08 01:40:00            0.0                 0.0             5.6  \n",
       "2019-02-08 03:40:00            0.0                 0.0             5.0  \n",
       "2019-02-08 07:40:00            0.0                 0.0             5.0  \n",
       "2019-02-08 09:40:00            0.0                 0.0             5.0  \n",
       "2019-02-08 11:40:00            0.0                 0.0             6.0  \n",
       "2019-02-08 13:40:00            0.0                 0.0             6.0  "
      ]
     },
     "execution_count": 89,
     "metadata": {},
     "output_type": "execute_result"
    }
   ],
   "source": [
    "df[ (df['Aux Power1 (kW)'] > 150) &\n",
    "   (df['Aux Power1 (kW)'] < 300) &\n",
    "   (df['Consump1 Rate (kg/h)'] > 1 )\n",
    "  ]"
   ]
  },
  {
   "cell_type": "code",
   "execution_count": 91,
   "metadata": {},
   "outputs": [
    {
     "data": {
      "text/plain": [
       "2019-02-05 00:00:00      NaN\n",
       "2019-02-05 00:10:00      NaN\n",
       "2019-02-05 00:20:00      NaN\n",
       "2019-02-05 00:30:00      NaN\n",
       "2019-02-05 00:40:00      NaN\n",
       "                       ...  \n",
       "2019-02-05 23:10:00    377.8\n",
       "2019-02-05 23:20:00    364.2\n",
       "2019-02-05 23:30:00    373.4\n",
       "2019-02-05 23:40:00    366.3\n",
       "2019-02-05 23:50:00    349.5\n",
       "Freq: 10T, Name: Aux Power1 (kW), Length: 144, dtype: float64"
      ]
     },
     "execution_count": 91,
     "metadata": {},
     "output_type": "execute_result"
    }
   ],
   "source": [
    "df['Aux Power1 (kW)']['2019-02-05']"
   ]
  },
  {
   "cell_type": "code",
   "execution_count": 92,
   "metadata": {},
   "outputs": [
    {
     "data": {
      "text/plain": [
       "2019-02-05 09:20:00    415.0\n",
       "2019-02-05 09:30:00    393.5\n",
       "2019-02-05 09:40:00    375.3\n",
       "2019-02-05 09:50:00    406.2\n",
       "2019-02-05 10:00:00    400.8\n",
       "                       ...  \n",
       "2019-02-05 23:10:00    377.8\n",
       "2019-02-05 23:20:00    364.2\n",
       "2019-02-05 23:30:00    373.4\n",
       "2019-02-05 23:40:00    366.3\n",
       "2019-02-05 23:50:00    349.5\n",
       "Freq: 10T, Name: Aux Power1 (kW), Length: 88, dtype: float64"
      ]
     },
     "execution_count": 92,
     "metadata": {},
     "output_type": "execute_result"
    }
   ],
   "source": [
    "df['Aux Power1 (kW)']['2019-02-05'].dropna()"
   ]
  },
  {
   "cell_type": "code",
   "execution_count": 93,
   "metadata": {},
   "outputs": [],
   "source": [
    "df = df.dropna()"
   ]
  },
  {
   "cell_type": "code",
   "execution_count": 94,
   "metadata": {},
   "outputs": [],
   "source": [
    "features = list(df)"
   ]
  },
  {
   "cell_type": "code",
   "execution_count": 99,
   "metadata": {},
   "outputs": [
    {
     "data": {
      "text/plain": [
       "['Aux Power1 (kW)',\n",
       " 'Consump1 Rate (kg/h)',\n",
       " 'Consump2 Rate  (kg/h)',\n",
       " 'Eng1 Tot1 Mass (kg)',\n",
       " 'Eng1 Tot2 Mass (kg)',\n",
       " 'Eng2 Tot1 Mass (kg)',\n",
       " 'Eng2 Tot2 Mass (kg)',\n",
       " 'Gps Speed (kn)',\n",
       " 'Power1 (kW)',\n",
       " 'Speed 1 (rpm)',\n",
       " 'SpeedlogSpeed (kn)',\n",
       " 'Torque 1 (kNm)']"
      ]
     },
     "execution_count": 99,
     "metadata": {},
     "output_type": "execute_result"
    }
   ],
   "source": [
    "features"
   ]
  },
  {
   "cell_type": "code",
   "execution_count": 96,
   "metadata": {},
   "outputs": [
    {
     "data": {
      "text/plain": [
       "<matplotlib.axes._subplots.AxesSubplot at 0x7fc00d70ad60>"
      ]
     },
     "execution_count": 96,
     "metadata": {},
     "output_type": "execute_result"
    },
    {
     "data": {
      "image/png": "[encoded data removed]",
      "text/plain": [
       "<Figure size 432x288 with 1 Axes>"
      ]
     },
     "metadata": {
      "needs_background": "light"
     },
     "output_type": "display_data"
    }
   ],
   "source": [
    "df[features[1]].plot() # For the ME"
   ]
  },
  {
   "cell_type": "code",
   "execution_count": 100,
   "metadata": {},
   "outputs": [],
   "source": [
    "label = features[1]"
   ]
  },
  {
   "cell_type": "code",
   "execution_count": 102,
   "metadata": {},
   "outputs": [
    {
     "data": {
      "text/plain": [
       "'Consump1 Rate (kg/h)'"
      ]
     },
     "execution_count": 102,
     "metadata": {},
     "output_type": "execute_result"
    }
   ],
   "source": [
    "label"
   ]
  },
  {
   "cell_type": "code",
   "execution_count": 104,
   "metadata": {},
   "outputs": [
    {
     "data": {
      "text/plain": [
       "2018-10-23 19:00:00     0.00\n",
       "2018-10-23 19:10:00     0.00\n",
       "2018-10-23 19:20:00     0.34\n",
       "2018-10-23 19:30:00     0.00\n",
       "2018-10-23 19:40:00     0.00\n",
       "                       ...  \n",
       "2019-02-08 13:20:00     0.00\n",
       "2019-02-08 13:30:00     0.00\n",
       "2019-02-08 13:40:00    10.93\n",
       "2019-02-08 13:50:00     0.18\n",
       "2019-02-08 14:00:00     0.00\n",
       "Name: Consump1 Rate (kg/h), Length: 9574, dtype: float64"
      ]
     },
     "execution_count": 104,
     "metadata": {},
     "output_type": "execute_result"
    }
   ],
   "source": [
    "df[label]"
   ]
  },
  {
   "cell_type": "code",
   "execution_count": 105,
   "metadata": {},
   "outputs": [
    {
     "data": {
      "text/plain": [
       "2018-10-23 19:00:00     0.00\n",
       "2018-10-23 19:10:00     0.00\n",
       "2018-10-23 19:20:00     0.34\n",
       "2018-10-23 19:30:00     0.00\n",
       "2018-10-23 19:40:00     0.00\n",
       "                       ...  \n",
       "2019-02-08 13:20:00     0.00\n",
       "2019-02-08 13:30:00     0.00\n",
       "2019-02-08 13:40:00    10.93\n",
       "2019-02-08 13:50:00     0.18\n",
       "2019-02-08 14:00:00     0.00\n",
       "Name: Consump1 Rate (kg/h), Length: 9574, dtype: float64"
      ]
     },
     "execution_count": 105,
     "metadata": {},
     "output_type": "execute_result"
    }
   ],
   "source": [
    "df['Consump1 Rate (kg/h)']"
   ]
  },
  {
   "cell_type": "code",
   "execution_count": 27,
   "metadata": {},
   "outputs": [
    {
     "data": {
      "text/plain": [
       "2018-10-23 19:00:00     0.00\n",
       "2018-10-23 19:10:00     0.00\n",
       "2018-10-23 19:20:00     0.34\n",
       "2018-10-23 19:30:00     0.00\n",
       "2018-10-23 19:40:00     0.00\n",
       "                       ...  \n",
       "2019-02-08 13:20:00     0.00\n",
       "2019-02-08 13:30:00     0.00\n",
       "2019-02-08 13:40:00    10.93\n",
       "2019-02-08 13:50:00     0.18\n",
       "2019-02-08 14:00:00     0.00\n",
       "Name: Consump1 Rate (kg/h), Length: 9574, dtype: float64"
      ]
     },
     "execution_count": 27,
     "metadata": {},
     "output_type": "execute_result"
    }
   ],
   "source": [
    "df['Consump1 Rate (kg/h)']"
   ]
  },
  {
   "cell_type": "code",
   "execution_count": 106,
   "metadata": {},
   "outputs": [],
   "source": [
    "test_features = [features[7],\n",
    "                 features[8],\n",
    "                 features[9],\n",
    "                 features[10],\n",
    "                 features[11]] # Using Torque, Speed rpm, Ship speed (log)"
   ]
  },
  {
   "cell_type": "code",
   "execution_count": 107,
   "metadata": {},
   "outputs": [
    {
     "data": {
      "text/plain": [
       "['Gps Speed (kn)',\n",
       " 'Power1 (kW)',\n",
       " 'Speed 1 (rpm)',\n",
       " 'SpeedlogSpeed (kn)',\n",
       " 'Torque 1 (kNm)']"
      ]
     },
     "execution_count": 107,
     "metadata": {},
     "output_type": "execute_result"
    }
   ],
   "source": [
    "test_features"
   ]
  },
  {
   "cell_type": "code",
   "execution_count": 108,
   "metadata": {},
   "outputs": [],
   "source": [
    "# Create new dataframe for training\n",
    "\n",
    "df_train = pd.DataFrame()\n",
    "\n",
    "for n_ in test_features:\n",
    "    df_train[n_] = df[n_]"
   ]
  },
  {
   "cell_type": "code",
   "execution_count": 109,
   "metadata": {},
   "outputs": [
    {
     "data": {
      "text/html": [
       "<div>\n",
       "<style scoped>\n",
       "    .dataframe tbody tr th:only-of-type {\n",
       "        vertical-align: middle;\n",
       "    }\n",
       "\n",
       "    .dataframe tbody tr th {\n",
       "        vertical-align: top;\n",
       "    }\n",
       "\n",
       "    .dataframe thead th {\n",
       "        text-align: right;\n",
       "    }\n",
       "</style>\n",
       "<table border=\"1\" class=\"dataframe\">\n",
       "  <thead>\n",
       "    <tr style=\"text-align: right;\">\n",
       "      <th></th>\n",
       "      <th>Gps Speed (kn)</th>\n",
       "      <th>Power1 (kW)</th>\n",
       "      <th>Speed 1 (rpm)</th>\n",
       "      <th>SpeedlogSpeed (kn)</th>\n",
       "      <th>Torque 1 (kNm)</th>\n",
       "    </tr>\n",
       "  </thead>\n",
       "  <tbody>\n",
       "    <tr>\n",
       "      <th>2018-10-23 19:00:00</th>\n",
       "      <td>0.11</td>\n",
       "      <td>0.0</td>\n",
       "      <td>0.0</td>\n",
       "      <td>0.0</td>\n",
       "      <td>6.7</td>\n",
       "    </tr>\n",
       "    <tr>\n",
       "      <th>2018-10-23 19:10:00</th>\n",
       "      <td>0.13</td>\n",
       "      <td>0.0</td>\n",
       "      <td>0.0</td>\n",
       "      <td>0.0</td>\n",
       "      <td>6.0</td>\n",
       "    </tr>\n",
       "    <tr>\n",
       "      <th>2018-10-23 19:20:00</th>\n",
       "      <td>0.11</td>\n",
       "      <td>40.0</td>\n",
       "      <td>3.2</td>\n",
       "      <td>0.0</td>\n",
       "      <td>20.7</td>\n",
       "    </tr>\n",
       "    <tr>\n",
       "      <th>2018-10-23 19:30:00</th>\n",
       "      <td>0.21</td>\n",
       "      <td>20.3</td>\n",
       "      <td>1.2</td>\n",
       "      <td>0.0</td>\n",
       "      <td>13.5</td>\n",
       "    </tr>\n",
       "    <tr>\n",
       "      <th>2018-10-23 19:40:00</th>\n",
       "      <td>0.37</td>\n",
       "      <td>85.6</td>\n",
       "      <td>4.9</td>\n",
       "      <td>0.0</td>\n",
       "      <td>26.6</td>\n",
       "    </tr>\n",
       "    <tr>\n",
       "      <th>...</th>\n",
       "      <td>...</td>\n",
       "      <td>...</td>\n",
       "      <td>...</td>\n",
       "      <td>...</td>\n",
       "      <td>...</td>\n",
       "    </tr>\n",
       "    <tr>\n",
       "      <th>2019-02-08 13:20:00</th>\n",
       "      <td>0.20</td>\n",
       "      <td>0.0</td>\n",
       "      <td>0.0</td>\n",
       "      <td>0.0</td>\n",
       "      <td>6.0</td>\n",
       "    </tr>\n",
       "    <tr>\n",
       "      <th>2019-02-08 13:30:00</th>\n",
       "      <td>0.23</td>\n",
       "      <td>0.0</td>\n",
       "      <td>0.0</td>\n",
       "      <td>0.0</td>\n",
       "      <td>6.0</td>\n",
       "    </tr>\n",
       "    <tr>\n",
       "      <th>2019-02-08 13:40:00</th>\n",
       "      <td>0.19</td>\n",
       "      <td>0.0</td>\n",
       "      <td>0.0</td>\n",
       "      <td>0.0</td>\n",
       "      <td>6.0</td>\n",
       "    </tr>\n",
       "    <tr>\n",
       "      <th>2019-02-08 13:50:00</th>\n",
       "      <td>0.16</td>\n",
       "      <td>0.0</td>\n",
       "      <td>0.0</td>\n",
       "      <td>0.0</td>\n",
       "      <td>2.4</td>\n",
       "    </tr>\n",
       "    <tr>\n",
       "      <th>2019-02-08 14:00:00</th>\n",
       "      <td>0.16</td>\n",
       "      <td>0.0</td>\n",
       "      <td>0.0</td>\n",
       "      <td>0.0</td>\n",
       "      <td>3.0</td>\n",
       "    </tr>\n",
       "  </tbody>\n",
       "</table>\n",
       "<p>9574 rows × 5 columns</p>\n",
       "</div>"
      ],
      "text/plain": [
       "                     Gps Speed (kn)  Power1 (kW)  Speed 1 (rpm)  \\\n",
       "2018-10-23 19:00:00            0.11          0.0            0.0   \n",
       "2018-10-23 19:10:00            0.13          0.0            0.0   \n",
       "2018-10-23 19:20:00            0.11         40.0            3.2   \n",
       "2018-10-23 19:30:00            0.21         20.3            1.2   \n",
       "2018-10-23 19:40:00            0.37         85.6            4.9   \n",
       "...                             ...          ...            ...   \n",
       "2019-02-08 13:20:00            0.20          0.0            0.0   \n",
       "2019-02-08 13:30:00            0.23          0.0            0.0   \n",
       "2019-02-08 13:40:00            0.19          0.0            0.0   \n",
       "2019-02-08 13:50:00            0.16          0.0            0.0   \n",
       "2019-02-08 14:00:00            0.16          0.0            0.0   \n",
       "\n",
       "                     SpeedlogSpeed (kn)  Torque 1 (kNm)  \n",
       "2018-10-23 19:00:00                 0.0             6.7  \n",
       "2018-10-23 19:10:00                 0.0             6.0  \n",
       "2018-10-23 19:20:00                 0.0            20.7  \n",
       "2018-10-23 19:30:00                 0.0            13.5  \n",
       "2018-10-23 19:40:00                 0.0            26.6  \n",
       "...                                 ...             ...  \n",
       "2019-02-08 13:20:00                 0.0             6.0  \n",
       "2019-02-08 13:30:00                 0.0             6.0  \n",
       "2019-02-08 13:40:00                 0.0             6.0  \n",
       "2019-02-08 13:50:00                 0.0             2.4  \n",
       "2019-02-08 14:00:00                 0.0             3.0  \n",
       "\n",
       "[9574 rows x 5 columns]"
      ]
     },
     "execution_count": 109,
     "metadata": {},
     "output_type": "execute_result"
    }
   ],
   "source": [
    "df_train"
   ]
  },
  {
   "cell_type": "code",
   "execution_count": 110,
   "metadata": {},
   "outputs": [
    {
     "data": {
      "text/html": [
       "<div>\n",
       "<style scoped>\n",
       "    .dataframe tbody tr th:only-of-type {\n",
       "        vertical-align: middle;\n",
       "    }\n",
       "\n",
       "    .dataframe tbody tr th {\n",
       "        vertical-align: top;\n",
       "    }\n",
       "\n",
       "    .dataframe thead th {\n",
       "        text-align: right;\n",
       "    }\n",
       "</style>\n",
       "<table border=\"1\" class=\"dataframe\">\n",
       "  <thead>\n",
       "    <tr style=\"text-align: right;\">\n",
       "      <th></th>\n",
       "      <th>Gps Speed (kn)</th>\n",
       "      <th>Power1 (kW)</th>\n",
       "      <th>Speed 1 (rpm)</th>\n",
       "      <th>SpeedlogSpeed (kn)</th>\n",
       "      <th>Torque 1 (kNm)</th>\n",
       "    </tr>\n",
       "  </thead>\n",
       "  <tbody>\n",
       "    <tr>\n",
       "      <th>2018-10-23 19:00:00</th>\n",
       "      <td>0.11</td>\n",
       "      <td>0.0</td>\n",
       "      <td>0.0</td>\n",
       "      <td>0.0</td>\n",
       "      <td>6.7</td>\n",
       "    </tr>\n",
       "    <tr>\n",
       "      <th>2018-10-23 19:10:00</th>\n",
       "      <td>0.13</td>\n",
       "      <td>0.0</td>\n",
       "      <td>0.0</td>\n",
       "      <td>0.0</td>\n",
       "      <td>6.0</td>\n",
       "    </tr>\n",
       "    <tr>\n",
       "      <th>2018-10-23 19:20:00</th>\n",
       "      <td>0.11</td>\n",
       "      <td>40.0</td>\n",
       "      <td>3.2</td>\n",
       "      <td>0.0</td>\n",
       "      <td>20.7</td>\n",
       "    </tr>\n",
       "    <tr>\n",
       "      <th>2018-10-23 19:30:00</th>\n",
       "      <td>0.21</td>\n",
       "      <td>20.3</td>\n",
       "      <td>1.2</td>\n",
       "      <td>0.0</td>\n",
       "      <td>13.5</td>\n",
       "    </tr>\n",
       "    <tr>\n",
       "      <th>2018-10-23 19:40:00</th>\n",
       "      <td>0.37</td>\n",
       "      <td>85.6</td>\n",
       "      <td>4.9</td>\n",
       "      <td>0.0</td>\n",
       "      <td>26.6</td>\n",
       "    </tr>\n",
       "    <tr>\n",
       "      <th>...</th>\n",
       "      <td>...</td>\n",
       "      <td>...</td>\n",
       "      <td>...</td>\n",
       "      <td>...</td>\n",
       "      <td>...</td>\n",
       "    </tr>\n",
       "    <tr>\n",
       "      <th>2019-02-08 13:20:00</th>\n",
       "      <td>0.20</td>\n",
       "      <td>0.0</td>\n",
       "      <td>0.0</td>\n",
       "      <td>0.0</td>\n",
       "      <td>6.0</td>\n",
       "    </tr>\n",
       "    <tr>\n",
       "      <th>2019-02-08 13:30:00</th>\n",
       "      <td>0.23</td>\n",
       "      <td>0.0</td>\n",
       "      <td>0.0</td>\n",
       "      <td>0.0</td>\n",
       "      <td>6.0</td>\n",
       "    </tr>\n",
       "    <tr>\n",
       "      <th>2019-02-08 13:40:00</th>\n",
       "      <td>0.19</td>\n",
       "      <td>0.0</td>\n",
       "      <td>0.0</td>\n",
       "      <td>0.0</td>\n",
       "      <td>6.0</td>\n",
       "    </tr>\n",
       "    <tr>\n",
       "      <th>2019-02-08 13:50:00</th>\n",
       "      <td>0.16</td>\n",
       "      <td>0.0</td>\n",
       "      <td>0.0</td>\n",
       "      <td>0.0</td>\n",
       "      <td>2.4</td>\n",
       "    </tr>\n",
       "    <tr>\n",
       "      <th>2019-02-08 14:00:00</th>\n",
       "      <td>0.16</td>\n",
       "      <td>0.0</td>\n",
       "      <td>0.0</td>\n",
       "      <td>0.0</td>\n",
       "      <td>3.0</td>\n",
       "    </tr>\n",
       "  </tbody>\n",
       "</table>\n",
       "<p>9574 rows × 5 columns</p>\n",
       "</div>"
      ],
      "text/plain": [
       "                     Gps Speed (kn)  Power1 (kW)  Speed 1 (rpm)  \\\n",
       "2018-10-23 19:00:00            0.11          0.0            0.0   \n",
       "2018-10-23 19:10:00            0.13          0.0            0.0   \n",
       "2018-10-23 19:20:00            0.11         40.0            3.2   \n",
       "2018-10-23 19:30:00            0.21         20.3            1.2   \n",
       "2018-10-23 19:40:00            0.37         85.6            4.9   \n",
       "...                             ...          ...            ...   \n",
       "2019-02-08 13:20:00            0.20          0.0            0.0   \n",
       "2019-02-08 13:30:00            0.23          0.0            0.0   \n",
       "2019-02-08 13:40:00            0.19          0.0            0.0   \n",
       "2019-02-08 13:50:00            0.16          0.0            0.0   \n",
       "2019-02-08 14:00:00            0.16          0.0            0.0   \n",
       "\n",
       "                     SpeedlogSpeed (kn)  Torque 1 (kNm)  \n",
       "2018-10-23 19:00:00                 0.0             6.7  \n",
       "2018-10-23 19:10:00                 0.0             6.0  \n",
       "2018-10-23 19:20:00                 0.0            20.7  \n",
       "2018-10-23 19:30:00                 0.0            13.5  \n",
       "2018-10-23 19:40:00                 0.0            26.6  \n",
       "...                                 ...             ...  \n",
       "2019-02-08 13:20:00                 0.0             6.0  \n",
       "2019-02-08 13:30:00                 0.0             6.0  \n",
       "2019-02-08 13:40:00                 0.0             6.0  \n",
       "2019-02-08 13:50:00                 0.0             2.4  \n",
       "2019-02-08 14:00:00                 0.0             3.0  \n",
       "\n",
       "[9574 rows x 5 columns]"
      ]
     },
     "execution_count": 110,
     "metadata": {},
     "output_type": "execute_result"
    }
   ],
   "source": [
    "df_train.dropna()"
   ]
  },
  {
   "cell_type": "code",
   "execution_count": 111,
   "metadata": {},
   "outputs": [],
   "source": [
    "df_train.to_excel('out-file.xlsx')"
   ]
  },
  {
   "cell_type": "code",
   "execution_count": 112,
   "metadata": {},
   "outputs": [],
   "source": [
    "X = np.array(df_train)\n",
    "y = np.array(df[label])"
   ]
  },
  {
   "cell_type": "code",
   "execution_count": 113,
   "metadata": {},
   "outputs": [
    {
     "data": {
      "text/plain": [
       "(9574, 5)"
      ]
     },
     "execution_count": 113,
     "metadata": {},
     "output_type": "execute_result"
    }
   ],
   "source": [
    "X.shape"
   ]
  },
  {
   "cell_type": "code",
   "execution_count": 114,
   "metadata": {},
   "outputs": [
    {
     "data": {
      "text/plain": [
       "(9574,)"
      ]
     },
     "execution_count": 114,
     "metadata": {},
     "output_type": "execute_result"
    }
   ],
   "source": [
    "y.shape"
   ]
  },
  {
   "cell_type": "code",
   "execution_count": 37,
   "metadata": {},
   "outputs": [
    {
     "data": {
      "text/plain": [
       "array([[ 0.11,  0.  ,  0.  ,  0.  ,  6.7 ],\n",
       "       [ 0.13,  0.  ,  0.  ,  0.  ,  6.  ],\n",
       "       [ 0.11, 40.  ,  3.2 ,  0.  , 20.7 ],\n",
       "       ...,\n",
       "       [ 0.19,  0.  ,  0.  ,  0.  ,  6.  ],\n",
       "       [ 0.16,  0.  ,  0.  ,  0.  ,  2.4 ],\n",
       "       [ 0.16,  0.  ,  0.  ,  0.  ,  3.  ]])"
      ]
     },
     "execution_count": 37,
     "metadata": {},
     "output_type": "execute_result"
    }
   ],
   "source": [
    "X"
   ]
  },
  {
   "cell_type": "code",
   "execution_count": 115,
   "metadata": {},
   "outputs": [],
   "source": [
    "import sklearn as sk\n",
    "from sklearn.model_selection import train_test_split\n",
    "from sklearn import linear_model\n",
    "from sklearn.metrics import mean_squared_error\n",
    "from sklearn.metrics import r2_score\n",
    "\n"
   ]
  },
  {
   "cell_type": "code",
   "execution_count": 116,
   "metadata": {},
   "outputs": [],
   "source": [
    "X_train, X_test, y_train, y_test = train_test_split(X, y, train_size=0.75, test_size=0.25, random_state=42)\n",
    "\n"
   ]
  },
  {
   "cell_type": "code",
   "execution_count": 117,
   "metadata": {},
   "outputs": [
    {
     "data": {
      "text/plain": [
       "array([[1.1210e+01, 5.5449e+03, 7.8800e+01, 1.2160e+01, 6.7390e+02],\n",
       "       [4.9000e+00, 5.3840e+02, 3.6000e+01, 4.6700e+00, 1.4240e+02],\n",
       "       [1.2240e+01, 5.9324e+03, 8.0300e+01, 1.2660e+01, 7.0460e+02],\n",
       "       ...,\n",
       "       [1.2880e+01, 4.0304e+03, 7.2200e+01, 1.2940e+01, 5.3150e+02],\n",
       "       [1.3000e+01, 5.0678e+03, 7.7000e+01, 1.2920e+01, 6.2580e+02],\n",
       "       [1.1770e+01, 4.1896e+03, 7.3000e+01, 1.2760e+01, 5.4590e+02]])"
      ]
     },
     "execution_count": 117,
     "metadata": {},
     "output_type": "execute_result"
    }
   ],
   "source": [
    "X_train"
   ]
  },
  {
   "cell_type": "code",
   "execution_count": 118,
   "metadata": {},
   "outputs": [
    {
     "data": {
      "text/plain": [
       "array([[  12.14, 4113.2 ,   72.4 ,   12.48,  543.1 ],\n",
       "       [  13.03, 6364.7 ,   83.  ,   13.45,  729.6 ],\n",
       "       [  12.82, 4174.9 ,   73.  ,   13.15,  544.8 ],\n",
       "       ...,\n",
       "       [  10.21, 3284.6 ,   67.  ,   10.88,  470.7 ],\n",
       "       [  12.28, 4337.2 ,   74.  ,   13.06,  557.4 ],\n",
       "       [  12.44, 5331.5 ,   79.  ,   12.94,  645.2 ]])"
      ]
     },
     "execution_count": 118,
     "metadata": {},
     "output_type": "execute_result"
    }
   ],
   "source": [
    "X_test"
   ]
  },
  {
   "cell_type": "code",
   "execution_count": 119,
   "metadata": {},
   "outputs": [
    {
     "data": {
      "text/plain": [
       "(7180, 5)"
      ]
     },
     "execution_count": 119,
     "metadata": {},
     "output_type": "execute_result"
    }
   ],
   "source": [
    "X_train.shape"
   ]
  },
  {
   "cell_type": "code",
   "execution_count": 120,
   "metadata": {},
   "outputs": [
    {
     "data": {
      "text/plain": [
       "(2394, 5)"
      ]
     },
     "execution_count": 120,
     "metadata": {},
     "output_type": "execute_result"
    }
   ],
   "source": [
    "X_test.shape"
   ]
  },
  {
   "cell_type": "code",
   "execution_count": 121,
   "metadata": {},
   "outputs": [
    {
     "data": {
      "text/plain": [
       "(7180,)"
      ]
     },
     "execution_count": 121,
     "metadata": {},
     "output_type": "execute_result"
    }
   ],
   "source": [
    "y_train.shape"
   ]
  },
  {
   "cell_type": "code",
   "execution_count": 49,
   "metadata": {},
   "outputs": [],
   "source": [
    "\n",
    "m_linear = sk.linear_model.LinearRegression()"
   ]
  },
  {
   "cell_type": "code",
   "execution_count": 122,
   "metadata": {},
   "outputs": [
    {
     "name": "stdout",
     "output_type": "stream",
     "text": [
      "Linear R2 train: 0.9310561545210139\n"
     ]
    }
   ],
   "source": [
    "m_linear.fit(X_train, y_train.reshape(-1,))\n",
    "\n",
    "R2_train = r2_score(m_linear.predict(X_test),y_test)\n",
    "\n",
    "print('Linear R2 train:', R2_train)"
   ]
  },
  {
   "cell_type": "code",
   "execution_count": 123,
   "metadata": {},
   "outputs": [
    {
     "data": {
      "text/plain": [
       "<matplotlib.collections.PathCollection at 0x7fc03d9f13a0>"
      ]
     },
     "execution_count": 123,
     "metadata": {},
     "output_type": "execute_result"
    },
    {
     "data": {
      "image/png": "[encoded data removed]",
      "text/plain": [
       "<Figure size 432x288 with 1 Axes>"
      ]
     },
     "metadata": {
      "needs_background": "light"
     },
     "output_type": "display_data"
    }
   ],
   "source": [
    "plt.scatter(y,m_linear.predict(X))"
   ]
  },
  {
   "cell_type": "code",
   "execution_count": 50,
   "metadata": {},
   "outputs": [
    {
     "name": "stdout",
     "output_type": "stream",
     "text": [
      "Linear R2 train: 0.9310561545210139\n"
     ]
    },
    {
     "data": {
      "image/png": "[encoded data removed]",
      "text/plain": [
       "<Figure size 432x288 with 1 Axes>"
      ]
     },
     "metadata": {
      "needs_background": "light"
     },
     "output_type": "display_data"
    }
   ],
   "source": [
    "cores = -1 # use all cores\n",
    "\n",
    "\n",
    "m_linear = sk.linear_model.LinearRegression(n_jobs=cores)\n",
    "m_linear.fit(X_train, y_train)\n",
    "\n",
    "R2_train = r2_score(m_linear.predict(X_test),y_test)\n",
    "print('Linear R2 train:', R2_train)\n",
    "\n",
    "plt.scatter(y,m_linear.predict(X),marker='o',alpha=0.5,color='r')\n",
    "\n",
    "plt.plot(y,y,color='black')\n",
    "\n",
    "plt.title('Linear Regression')\n",
    "plt.grid()\n",
    "\n",
    "plt.xlabel('True value - [kg/h]')\n",
    "plt.ylabel('Predicted value - [kg/h]')\n",
    "plt.show()\n",
    "\n",
    "\n"
   ]
  },
  {
   "cell_type": "code",
   "execution_count": 51,
   "metadata": {},
   "outputs": [
    {
     "name": "stdout",
     "output_type": "stream",
     "text": [
      "R2 train random forest full data set: 0.9911569124467198\n"
     ]
    },
    {
     "data": {
      "text/plain": [
       "Text(0, 0.5, 'Predicted value - [kg/h]')"
      ]
     },
     "execution_count": 51,
     "metadata": {},
     "output_type": "execute_result"
    },
    {
     "data": {
      "image/png": "[encoded data removed]",
      "text/plain": [
       "<Figure size 432x288 with 1 Axes>"
      ]
     },
     "metadata": {
      "needs_background": "light"
     },
     "output_type": "display_data"
    }
   ],
   "source": [
    "\n",
    "from sklearn.ensemble import RandomForestRegressor\n",
    "m_rf = RandomForestRegressor(max_depth=50, random_state=42,n_estimators=300)\n",
    "\n",
    "m_rf.fit(X_train, y_train)\n",
    "\n",
    "R2_train = r2_score(m_rf.predict(X),y)\n",
    "print('R2 train random forest full data set:', R2_train)\n",
    "\n",
    "plt.scatter(m_rf.predict(X_test),y_test,marker='x',alpha=0.5)\n",
    "plt.plot(y_test,y_test,color='black')\n",
    "plt.title('Random Forest Regression, R2: ' + str(R2_train))\n",
    "\n",
    "plt.grid()\n",
    "\n",
    "plt.xlabel('True value - [kg/h]')\n",
    "plt.ylabel('Predicted value - [kg/h]')\n",
    "\n"
   ]
  },
  {
   "cell_type": "code",
   "execution_count": 52,
   "metadata": {},
   "outputs": [],
   "source": [
    "## Create a new DF with results from the models\n",
    "\n",
    "\n",
    "df_models = df[features]"
   ]
  },
  {
   "cell_type": "code",
   "execution_count": 53,
   "metadata": {},
   "outputs": [],
   "source": [
    "df_models['lin_regr'] = m_linear.predict(df[test_features])"
   ]
  },
  {
   "cell_type": "code",
   "execution_count": 54,
   "metadata": {},
   "outputs": [
    {
     "data": {
      "text/html": [
       "<div>\n",
       "<style scoped>\n",
       "    .dataframe tbody tr th:only-of-type {\n",
       "        vertical-align: middle;\n",
       "    }\n",
       "\n",
       "    .dataframe tbody tr th {\n",
       "        vertical-align: top;\n",
       "    }\n",
       "\n",
       "    .dataframe thead th {\n",
       "        text-align: right;\n",
       "    }\n",
       "</style>\n",
       "<table border=\"1\" class=\"dataframe\">\n",
       "  <thead>\n",
       "    <tr style=\"text-align: right;\">\n",
       "      <th></th>\n",
       "      <th>Aux Power1 (kW)</th>\n",
       "      <th>Consump1 Rate (kg/h)</th>\n",
       "      <th>Consump2 Rate  (kg/h)</th>\n",
       "      <th>Eng1 Tot1 Mass (kg)</th>\n",
       "      <th>Eng1 Tot2 Mass (kg)</th>\n",
       "      <th>Eng2 Tot1 Mass (kg)</th>\n",
       "      <th>Eng2 Tot2 Mass (kg)</th>\n",
       "      <th>Gps Speed (kn)</th>\n",
       "      <th>Power1 (kW)</th>\n",
       "      <th>Speed 1 (rpm)</th>\n",
       "      <th>SpeedlogSpeed (kn)</th>\n",
       "      <th>Torque 1 (kNm)</th>\n",
       "      <th>lin_regr</th>\n",
       "    </tr>\n",
       "  </thead>\n",
       "  <tbody>\n",
       "    <tr>\n",
       "      <th>2018-10-23 19:00:00</th>\n",
       "      <td>384.9</td>\n",
       "      <td>0.00</td>\n",
       "      <td>79.56</td>\n",
       "      <td>1040566.0</td>\n",
       "      <td>73799.0</td>\n",
       "      <td>155042.0</td>\n",
       "      <td>44964.3</td>\n",
       "      <td>0.11</td>\n",
       "      <td>0.0</td>\n",
       "      <td>0.0</td>\n",
       "      <td>0.0</td>\n",
       "      <td>6.7</td>\n",
       "      <td>6.076766</td>\n",
       "    </tr>\n",
       "    <tr>\n",
       "      <th>2018-10-23 19:10:00</th>\n",
       "      <td>487.4</td>\n",
       "      <td>0.00</td>\n",
       "      <td>92.32</td>\n",
       "      <td>1040566.0</td>\n",
       "      <td>73799.0</td>\n",
       "      <td>155042.0</td>\n",
       "      <td>44977.7</td>\n",
       "      <td>0.13</td>\n",
       "      <td>0.0</td>\n",
       "      <td>0.0</td>\n",
       "      <td>0.0</td>\n",
       "      <td>6.0</td>\n",
       "      <td>6.292628</td>\n",
       "    </tr>\n",
       "    <tr>\n",
       "      <th>2018-10-23 19:20:00</th>\n",
       "      <td>739.3</td>\n",
       "      <td>0.34</td>\n",
       "      <td>118.10</td>\n",
       "      <td>1040566.0</td>\n",
       "      <td>73799.0</td>\n",
       "      <td>155042.0</td>\n",
       "      <td>44995.1</td>\n",
       "      <td>0.11</td>\n",
       "      <td>40.0</td>\n",
       "      <td>3.2</td>\n",
       "      <td>0.0</td>\n",
       "      <td>20.7</td>\n",
       "      <td>23.683256</td>\n",
       "    </tr>\n",
       "    <tr>\n",
       "      <th>2018-10-23 19:30:00</th>\n",
       "      <td>915.0</td>\n",
       "      <td>0.00</td>\n",
       "      <td>140.06</td>\n",
       "      <td>1040566.0</td>\n",
       "      <td>73799.0</td>\n",
       "      <td>155042.0</td>\n",
       "      <td>45016.7</td>\n",
       "      <td>0.21</td>\n",
       "      <td>20.3</td>\n",
       "      <td>1.2</td>\n",
       "      <td>0.0</td>\n",
       "      <td>13.5</td>\n",
       "      <td>12.861711</td>\n",
       "    </tr>\n",
       "    <tr>\n",
       "      <th>2018-10-23 19:40:00</th>\n",
       "      <td>899.7</td>\n",
       "      <td>0.00</td>\n",
       "      <td>139.03</td>\n",
       "      <td>1040566.0</td>\n",
       "      <td>73799.0</td>\n",
       "      <td>155042.0</td>\n",
       "      <td>45040.0</td>\n",
       "      <td>0.37</td>\n",
       "      <td>85.6</td>\n",
       "      <td>4.9</td>\n",
       "      <td>0.0</td>\n",
       "      <td>26.6</td>\n",
       "      <td>38.094184</td>\n",
       "    </tr>\n",
       "    <tr>\n",
       "      <th>...</th>\n",
       "      <td>...</td>\n",
       "      <td>...</td>\n",
       "      <td>...</td>\n",
       "      <td>...</td>\n",
       "      <td>...</td>\n",
       "      <td>...</td>\n",
       "      <td>...</td>\n",
       "      <td>...</td>\n",
       "      <td>...</td>\n",
       "      <td>...</td>\n",
       "      <td>...</td>\n",
       "      <td>...</td>\n",
       "      <td>...</td>\n",
       "    </tr>\n",
       "    <tr>\n",
       "      <th>2019-02-08 13:20:00</th>\n",
       "      <td>257.3</td>\n",
       "      <td>0.00</td>\n",
       "      <td>71.53</td>\n",
       "      <td>3158245.0</td>\n",
       "      <td>93613.0</td>\n",
       "      <td>396187.0</td>\n",
       "      <td>61994.8</td>\n",
       "      <td>0.20</td>\n",
       "      <td>0.0</td>\n",
       "      <td>0.0</td>\n",
       "      <td>0.0</td>\n",
       "      <td>6.0</td>\n",
       "      <td>6.049985</td>\n",
       "    </tr>\n",
       "    <tr>\n",
       "      <th>2019-02-08 13:30:00</th>\n",
       "      <td>265.4</td>\n",
       "      <td>0.00</td>\n",
       "      <td>73.23</td>\n",
       "      <td>3158245.0</td>\n",
       "      <td>93613.0</td>\n",
       "      <td>396187.0</td>\n",
       "      <td>62007.2</td>\n",
       "      <td>0.23</td>\n",
       "      <td>0.0</td>\n",
       "      <td>0.0</td>\n",
       "      <td>0.0</td>\n",
       "      <td>6.0</td>\n",
       "      <td>5.945995</td>\n",
       "    </tr>\n",
       "    <tr>\n",
       "      <th>2019-02-08 13:40:00</th>\n",
       "      <td>259.1</td>\n",
       "      <td>10.93</td>\n",
       "      <td>71.98</td>\n",
       "      <td>3158245.0</td>\n",
       "      <td>93613.0</td>\n",
       "      <td>396187.0</td>\n",
       "      <td>62019.2</td>\n",
       "      <td>0.19</td>\n",
       "      <td>0.0</td>\n",
       "      <td>0.0</td>\n",
       "      <td>0.0</td>\n",
       "      <td>6.0</td>\n",
       "      <td>6.084648</td>\n",
       "    </tr>\n",
       "    <tr>\n",
       "      <th>2019-02-08 13:50:00</th>\n",
       "      <td>297.0</td>\n",
       "      <td>0.18</td>\n",
       "      <td>77.47</td>\n",
       "      <td>3158245.0</td>\n",
       "      <td>93614.6</td>\n",
       "      <td>396187.0</td>\n",
       "      <td>62031.6</td>\n",
       "      <td>0.16</td>\n",
       "      <td>0.0</td>\n",
       "      <td>0.0</td>\n",
       "      <td>0.0</td>\n",
       "      <td>2.4</td>\n",
       "      <td>7.655317</td>\n",
       "    </tr>\n",
       "    <tr>\n",
       "      <th>2019-02-08 14:00:00</th>\n",
       "      <td>547.1</td>\n",
       "      <td>0.00</td>\n",
       "      <td>101.27</td>\n",
       "      <td>3158245.0</td>\n",
       "      <td>93615.0</td>\n",
       "      <td>396187.0</td>\n",
       "      <td>62045.9</td>\n",
       "      <td>0.16</td>\n",
       "      <td>0.0</td>\n",
       "      <td>0.0</td>\n",
       "      <td>0.0</td>\n",
       "      <td>3.0</td>\n",
       "      <td>7.410871</td>\n",
       "    </tr>\n",
       "  </tbody>\n",
       "</table>\n",
       "<p>9574 rows × 13 columns</p>\n",
       "</div>"
      ],
      "text/plain": [
       "                     Aux Power1 (kW)  Consump1 Rate (kg/h)  \\\n",
       "2018-10-23 19:00:00            384.9                  0.00   \n",
       "2018-10-23 19:10:00            487.4                  0.00   \n",
       "2018-10-23 19:20:00            739.3                  0.34   \n",
       "2018-10-23 19:30:00            915.0                  0.00   \n",
       "2018-10-23 19:40:00            899.7                  0.00   \n",
       "...                              ...                   ...   \n",
       "2019-02-08 13:20:00            257.3                  0.00   \n",
       "2019-02-08 13:30:00            265.4                  0.00   \n",
       "2019-02-08 13:40:00            259.1                 10.93   \n",
       "2019-02-08 13:50:00            297.0                  0.18   \n",
       "2019-02-08 14:00:00            547.1                  0.00   \n",
       "\n",
       "                     Consump2 Rate  (kg/h)  Eng1 Tot1 Mass (kg)  \\\n",
       "2018-10-23 19:00:00                  79.56            1040566.0   \n",
       "2018-10-23 19:10:00                  92.32            1040566.0   \n",
       "2018-10-23 19:20:00                 118.10            1040566.0   \n",
       "2018-10-23 19:30:00                 140.06            1040566.0   \n",
       "2018-10-23 19:40:00                 139.03            1040566.0   \n",
       "...                                    ...                  ...   \n",
       "2019-02-08 13:20:00                  71.53            3158245.0   \n",
       "2019-02-08 13:30:00                  73.23            3158245.0   \n",
       "2019-02-08 13:40:00                  71.98            3158245.0   \n",
       "2019-02-08 13:50:00                  77.47            3158245.0   \n",
       "2019-02-08 14:00:00                 101.27            3158245.0   \n",
       "\n",
       "                     Eng1 Tot2 Mass (kg)  Eng2 Tot1 Mass (kg)  \\\n",
       "2018-10-23 19:00:00              73799.0             155042.0   \n",
       "2018-10-23 19:10:00              73799.0             155042.0   \n",
       "2018-10-23 19:20:00              73799.0             155042.0   \n",
       "2018-10-23 19:30:00              73799.0             155042.0   \n",
       "2018-10-23 19:40:00              73799.0             155042.0   \n",
       "...                                  ...                  ...   \n",
       "2019-02-08 13:20:00              93613.0             396187.0   \n",
       "2019-02-08 13:30:00              93613.0             396187.0   \n",
       "2019-02-08 13:40:00              93613.0             396187.0   \n",
       "2019-02-08 13:50:00              93614.6             396187.0   \n",
       "2019-02-08 14:00:00              93615.0             396187.0   \n",
       "\n",
       "                     Eng2 Tot2 Mass (kg)  Gps Speed (kn)  Power1 (kW)  \\\n",
       "2018-10-23 19:00:00              44964.3            0.11          0.0   \n",
       "2018-10-23 19:10:00              44977.7            0.13          0.0   \n",
       "2018-10-23 19:20:00              44995.1            0.11         40.0   \n",
       "2018-10-23 19:30:00              45016.7            0.21         20.3   \n",
       "2018-10-23 19:40:00              45040.0            0.37         85.6   \n",
       "...                                  ...             ...          ...   \n",
       "2019-02-08 13:20:00              61994.8            0.20          0.0   \n",
       "2019-02-08 13:30:00              62007.2            0.23          0.0   \n",
       "2019-02-08 13:40:00              62019.2            0.19          0.0   \n",
       "2019-02-08 13:50:00              62031.6            0.16          0.0   \n",
       "2019-02-08 14:00:00              62045.9            0.16          0.0   \n",
       "\n",
       "                     Speed 1 (rpm)  SpeedlogSpeed (kn)  Torque 1 (kNm)  \\\n",
       "2018-10-23 19:00:00            0.0                 0.0             6.7   \n",
       "2018-10-23 19:10:00            0.0                 0.0             6.0   \n",
       "2018-10-23 19:20:00            3.2                 0.0            20.7   \n",
       "2018-10-23 19:30:00            1.2                 0.0            13.5   \n",
       "2018-10-23 19:40:00            4.9                 0.0            26.6   \n",
       "...                            ...                 ...             ...   \n",
       "2019-02-08 13:20:00            0.0                 0.0             6.0   \n",
       "2019-02-08 13:30:00            0.0                 0.0             6.0   \n",
       "2019-02-08 13:40:00            0.0                 0.0             6.0   \n",
       "2019-02-08 13:50:00            0.0                 0.0             2.4   \n",
       "2019-02-08 14:00:00            0.0                 0.0             3.0   \n",
       "\n",
       "                      lin_regr  \n",
       "2018-10-23 19:00:00   6.076766  \n",
       "2018-10-23 19:10:00   6.292628  \n",
       "2018-10-23 19:20:00  23.683256  \n",
       "2018-10-23 19:30:00  12.861711  \n",
       "2018-10-23 19:40:00  38.094184  \n",
       "...                        ...  \n",
       "2019-02-08 13:20:00   6.049985  \n",
       "2019-02-08 13:30:00   5.945995  \n",
       "2019-02-08 13:40:00   6.084648  \n",
       "2019-02-08 13:50:00   7.655317  \n",
       "2019-02-08 14:00:00   7.410871  \n",
       "\n",
       "[9574 rows x 13 columns]"
      ]
     },
     "execution_count": 54,
     "metadata": {},
     "output_type": "execute_result"
    }
   ],
   "source": [
    "df_models"
   ]
  },
  {
   "cell_type": "code",
   "execution_count": 55,
   "metadata": {},
   "outputs": [
    {
     "data": {
      "text/plain": [
       "<matplotlib.axes._subplots.AxesSubplot at 0x7fc00d2af9d0>"
      ]
     },
     "execution_count": 55,
     "metadata": {},
     "output_type": "execute_result"
    },
    {
     "data": {
      "image/png": "[encoded data removed]",
      "text/plain": [
       "<Figure size 432x288 with 1 Axes>"
      ]
     },
     "metadata": {
      "needs_background": "light"
     },
     "output_type": "display_data"
    }
   ],
   "source": [
    "df_models[['lin_regr','Consump1 Rate (kg/h)']]['2018-12-05'].plot()"
   ]
  },
  {
   "cell_type": "code",
   "execution_count": 56,
   "metadata": {},
   "outputs": [
    {
     "data": {
      "image/png": "[encoded data removed]",
      "text/plain": [
       "<Figure size 1008x720 with 1 Axes>"
      ]
     },
     "metadata": {
      "needs_background": "light"
     },
     "output_type": "display_data"
    }
   ],
   "source": [
    "\n",
    "# Plot some date over time\n",
    "\n",
    "\n",
    "\n",
    "date1='2018-12-15'\n",
    "date2='2018-12-16'\n",
    "\n",
    "fig, ax = plt.subplots()\n",
    "fig.set_size_inches(14, 10)\n",
    "\n",
    "plt.plot(df[label][date1:date2],marker='x')\n",
    "plt.show()\n",
    "\n",
    "\n"
   ]
  },
  {
   "cell_type": "code",
   "execution_count": 57,
   "metadata": {},
   "outputs": [
    {
     "data": {
      "image/png": "[encoded data removed]",
      "text/plain": [
       "<Figure size 1008x720 with 1 Axes>"
      ]
     },
     "metadata": {
      "needs_background": "light"
     },
     "output_type": "display_data"
    }
   ],
   "source": [
    "\n",
    "# Plot some date over time\n",
    "\n",
    "\n",
    "\n",
    "date1='2018-12-10'\n",
    "date2='2018-12-16'\n",
    "\n",
    "fig, ax = plt.subplots()\n",
    "fig.set_size_inches(14, 10)\n",
    "\n",
    "plt.plot(df_models[label][date1:date2],marker='x',label='Measured')\n",
    "\n",
    "##\n",
    "## \n",
    "\n",
    "plt.plot(df_models['lin_regr'][date1:date2],marker='.',label='Linear Regr')\n",
    "\n",
    "ax.grid()\n",
    "ax.set(xlabel='Time', ylabel='FO Flow',title='FO Flow model comparison')\n",
    "#ax.set_ylim(-0.05,0.05)\n",
    "\n",
    "plt.legend(loc='upper right')\n",
    "plt.xlim(pd.Timestamp(date1),pd.Timestamp(date2))\n",
    "plt.show()\n",
    "\n",
    "\n"
   ]
  },
  {
   "cell_type": "code",
   "execution_count": null,
   "metadata": {},
   "outputs": [],
   "source": []
  }
 ],
 "metadata": {
  "kernelspec": {
   "display_name": "Python 3",
   "language": "python",
   "name": "python3"
  },
  "language_info": {
   "codemirror_mode": {
    "name": "ipython",
    "version": 3
   },
   "file_extension": ".py",
   "mimetype": "text/x-python",
   "name": "python",
   "nbconvert_exporter": "python",
   "pygments_lexer": "ipython3",
   "version": "3.8.3"
  }
 },
 "nbformat": 4,
 "nbformat_minor": 4
}
