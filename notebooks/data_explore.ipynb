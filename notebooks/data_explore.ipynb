{
 "cells": [
  {
   "cell_type": "code",
   "execution_count": 1,
   "metadata": {},
   "outputs": [
    {
     "name": "stdout",
     "output_type": "stream",
     "text": [
      "Populating the interactive namespace from numpy and matplotlib\n"
     ]
    }
   ],
   "source": [
    "%pylab inline\n",
    "import pandas as pd\n",
    "import matplotlib.pyplot as plt\n",
    "import unicodedata\n"
   ]
  },
  {
   "cell_type": "code",
   "execution_count": 2,
   "metadata": {},
   "outputs": [],
   "source": [
    "xls_data_path = '../abs-data/'\n",
    "database_path = '../database/'\n",
    "df = pd.read_excel(database_path + 'merged_v3_selected.xlsx')\n",
    "\n",
    "headers = pd.read_excel(xls_data_path + 'meta-data/headers.xlsx')\n",
    "\n",
    "#%%\n",
    "# Choose only the one which are marked with x in Selection-column\n",
    "\n",
    "df_headers_chosen = headers.loc[headers['Graph'] == 'x']\n",
    "graph_ = df_headers_chosen['Feature'].tolist()\n",
    "\n",
    "\n",
    "# Unable to save files if not used...\n",
    "\n",
    "def slugify(value):\n",
    "    \"\"\"\n",
    "    Convert to ASCII if 'allow_unicode' is False. Convert spaces to hyphens.\n",
    "    Remove characters that aren't alphanumerics, underscores, or hyphens.\n",
    "    Convert to lowercase. Also strip leading and trailing whitespace.\n",
    "    \"\"\"\n",
    "    value = str(value)\n",
    "\n",
    "    value = unicodedata.normalize('NFKD', value).encode('ascii', 'ignore').decode('ascii')\n",
    "    value = re.sub(r'[^\\w\\s-]', '', value).strip().lower()\n",
    "    return re.sub(r'[-\\s]+', '-', value)"
   ]
  },
  {
   "cell_type": "code",
   "execution_count": 3,
   "metadata": {},
   "outputs": [
    {
     "data": {
      "text/plain": [
       "['Consump1 Rate (kg/h)',\n",
       " 'Consump2 Rate  (kg/h)',\n",
       " 'Torque 1 (kNm)',\n",
       " 'Speed 1 (rpm)',\n",
       " 'Power1 (kW)',\n",
       " 'SpeedlogSpeed (kn)',\n",
       " 'Gps Speed (kn)',\n",
       " 'Aux Power1 (kW)']"
      ]
     },
     "execution_count": 3,
     "metadata": {},
     "output_type": "execute_result"
    }
   ],
   "source": [
    "graph_"
   ]
  },
  {
   "cell_type": "code",
   "execution_count": 4,
   "metadata": {},
   "outputs": [],
   "source": [
    "df_out = pd.DataFrame()\n",
    "for i in graph_:\n",
    "    df_out[i] = pd.to_numeric(df[i],errors='ignore')\n",
    "df = df_out"
   ]
  },
  {
   "cell_type": "code",
   "execution_count": 5,
   "metadata": {},
   "outputs": [],
   "source": [
    "\n",
    "# Manually corrected some rows which contained junk.. re-saving\n",
    "\n",
    "df.to_csv('../database/merged_v3_data.csv')\n",
    "df.to_hdf('../database/merged_v3_data.hd5','table')"
   ]
  },
  {
   "cell_type": "code",
   "execution_count": 6,
   "metadata": {},
   "outputs": [
    {
     "name": "stderr",
     "output_type": "stream",
     "text": [
      "/anaconda3/lib/python3.7/site-packages/numpy/lib/histograms.py:824: RuntimeWarning: invalid value encountered in greater_equal\n",
      "  keep = (tmp_a >= first_edge)\n",
      "/anaconda3/lib/python3.7/site-packages/numpy/lib/histograms.py:825: RuntimeWarning: invalid value encountered in less_equal\n",
      "  keep &= (tmp_a <= last_edge)\n"
     ]
    },
    {
     "data": {
      "text/plain": [
       "<Figure size 720x360 with 0 Axes>"
      ]
     },
     "metadata": {},
     "output_type": "display_data"
    }
   ],
   "source": [
    "\n",
    "df = df_out\n",
    "nr_bin=60\n",
    "\n",
    "graph_path = '../figures/'\n",
    "\n",
    "for i in graph_:\n",
    "    series1 = df[i]\n",
    "    plt.hist(series1,bins=nr_bin)\n",
    "    plt.title(i)\n",
    "    plt.xlabel('Datapoints: ' + str(len(series1)) + ', bins: ' + str(nr_bin))\n",
    "    plt.figtext(0.6,0.5, str(series1.describe()),alpha=0.8,fontsize=8)\n",
    "    plt.savefig(graph_path + slugify(i) + '.pdf')\n",
    "    fig = matplotlib.pyplot.gcf() # higher res\n",
    "    fig.set_size_inches(10,5) #higher res\n",
    "    plt.clf()\n"
   ]
  },
  {
   "cell_type": "code",
   "execution_count": null,
   "metadata": {},
   "outputs": [],
   "source": []
  }
 ],
 "metadata": {
  "kernelspec": {
   "display_name": "Python 3",
   "language": "python",
   "name": "python3"
  },
  "language_info": {
   "codemirror_mode": {
    "name": "ipython",
    "version": 3
   },
   "file_extension": ".py",
   "mimetype": "text/x-python",
   "name": "python",
   "nbconvert_exporter": "python",
   "pygments_lexer": "ipython3",
   "version": "3.6.8"
  },
  "latex_envs": {
   "LaTeX_envs_menu_present": true,
   "autoclose": false,
   "autocomplete": true,
   "bibliofile": "biblio.bib",
   "cite_by": "apalike",
   "current_citInitial": 1,
   "eqLabelWithNumbers": true,
   "eqNumInitial": 1,
   "hotkeys": {
    "equation": "Ctrl-E",
    "itemize": "Ctrl-I"
   },
   "labels_anchors": false,
   "latex_user_defs": false,
   "report_style_numbering": false,
   "user_envs_cfg": false
  },
  "varInspector": {
   "cols": {
    "lenName": 16,
    "lenType": 16,
    "lenVar": 40
   },
   "kernels_config": {
    "python": {
     "delete_cmd_postfix": "",
     "delete_cmd_prefix": "del ",
     "library": "var_list.py",
     "varRefreshCmd": "print(var_dic_list())"
    },
    "r": {
     "delete_cmd_postfix": ") ",
     "delete_cmd_prefix": "rm(",
     "library": "var_list.r",
     "varRefreshCmd": "cat(var_dic_list()) "
    }
   },
   "types_to_exclude": [
    "module",
    "function",
    "builtin_function_or_method",
    "instance",
    "_Feature"
   ],
   "window_display": false
  }
 },
 "nbformat": 4,
 "nbformat_minor": 2
}
