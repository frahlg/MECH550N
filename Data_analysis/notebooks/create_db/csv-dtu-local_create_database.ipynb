{
 "cells": [
  {
   "cell_type": "code",
   "execution_count": 1,
   "metadata": {},
   "outputs": [],
   "source": [
    "import pandas as pd\n",
    "import glob as glob"
   ]
  },
  {
   "cell_type": "code",
   "execution_count": 2,
   "metadata": {},
   "outputs": [
    {
     "name": "stdout",
     "output_type": "stream",
     "text": [
      "['rawdata/fuelDensity.csv', 'rawdata/fuelTemp.csv', 'rawdata/fuelVolumeFlowRate.csv', 'rawdata/inclinometer-raw.csv', 'rawdata/speedKnots.csv', 'rawdata/starboardPitch.csv', 'rawdata/starboardRudder.csv', 'rawdata/windAngle.csv', 'rawdata/windSpeed.csv']\n"
     ]
    },
    {
     "data": {
      "text/plain": [
       "9"
      ]
     },
     "execution_count": 2,
     "metadata": {},
     "output_type": "execute_result"
    }
   ],
   "source": [
    "csv_data_path = 'rawdata/'\n",
    "csvfiles = glob.glob(csv_data_path + '*.csv')\n",
    "print(csvfiles)\n",
    "df = pd.DataFrame()\n",
    "all_data = pd.DataFrame()\n",
    "\n",
    "len(csvfiles)"
   ]
  },
  {
   "cell_type": "markdown",
   "metadata": {},
   "source": [
    "The data spans a period of almost two months, February 16th to April 12th, 2010."
   ]
  },
  {
   "cell_type": "code",
   "execution_count": 3,
   "metadata": {},
   "outputs": [
    {
     "name": "stdout",
     "output_type": "stream",
     "text": [
      "Processing: fuelDensity\n",
      "Converting datetime\n",
      "Converting datetime, done ...\n",
      "1 done of 9\n",
      "Processing: fuelTemp\n",
      "Converting datetime\n",
      "Converting datetime, done ...\n",
      "2 done of 9\n",
      "Processing: fuelVolumeFlowRate\n",
      "Converting datetime\n",
      "Converting datetime, done ...\n",
      "3 done of 9\n",
      "Processing: inclinometer-raw\n",
      "Converting datetime\n",
      "Converting datetime, done ...\n",
      "4 done of 9\n",
      "Processing: speedKnots\n",
      "Converting datetime\n",
      "Converting datetime, done ...\n",
      "5 done of 9\n",
      "Processing: starboardPitch\n",
      "Converting datetime\n",
      "Converting datetime, done ...\n",
      "6 done of 9\n",
      "Processing: starboardRudder\n",
      "Converting datetime\n",
      "Converting datetime, done ...\n",
      "7 done of 9\n",
      "Processing: windAngle\n",
      "Converting datetime\n",
      "Converting datetime, done ...\n",
      "8 done of 9\n",
      "Processing: windSpeed\n",
      "Converting datetime\n",
      "Converting datetime, done ...\n",
      "9 done of 9\n",
      "All done!\n"
     ]
    }
   ],
   "source": [
    "# As the datevalues are in 100ns, and according to the paper the dataset starts at 2010-02-16, thats why\n",
    "# the index is re-indexed for each file.\n",
    "\n",
    "df = pd.DataFrame()\n",
    "for i in range(len(csvfiles)):\n",
    "    print('Processing: '+str(csvfiles[i].split('/')[-1].split('.')[0]))\n",
    "    if not 'tude' in csvfiles[i]:\n",
    "        df = pd.read_csv(csvfiles[i],header=None,index_col=0,dtype='a')\n",
    "        print('Converting datetime')\n",
    "        df.index = pd.to_datetime((df.index-634018095139168000)/1e7,unit='s',origin='2010-02-16')\n",
    "        print('Converting datetime, done ...')\n",
    "        #df.index = pd.to_datetime(df.index)\n",
    "        df[df.columns[0]] = pd.to_numeric(df[df.columns[0]]) \n",
    "        df.index.names = ['Date']\n",
    "        df = df.rename(columns={ df.columns[0]: csvfiles[i].split('/')[-1].split('.')[0] })\n",
    "        #df[csvfiles[i]] = pd.read_csv(csvfiles[i],header=None,index_col=0,dtype='a')\n",
    "        all_data = all_data.append(df,sort=True)\n",
    "        all_data = all_data.resample('1min').mean()\n",
    "        #df=df.resample('1s').mean()\n",
    "        # Clean up memory\n",
    "        del df\n",
    "        print(str(i+1) + ' done of ' + str(len(csvfiles)))\n",
    "    #df = pd.read_csv(csvfiles[i],header=None,index_col=0,dtype='a')\n",
    "\n",
    "\n",
    "print('All done!')"
   ]
  },
  {
   "cell_type": "code",
   "execution_count": 4,
   "metadata": {},
   "outputs": [
    {
     "data": {
      "text/html": [
       "<div>\n",
       "<style scoped>\n",
       "    .dataframe tbody tr th:only-of-type {\n",
       "        vertical-align: middle;\n",
       "    }\n",
       "\n",
       "    .dataframe tbody tr th {\n",
       "        vertical-align: top;\n",
       "    }\n",
       "\n",
       "    .dataframe thead th {\n",
       "        text-align: right;\n",
       "    }\n",
       "</style>\n",
       "<table border=\"1\" class=\"dataframe\">\n",
       "  <thead>\n",
       "    <tr style=\"text-align: right;\">\n",
       "      <th></th>\n",
       "      <th>fuelDensity</th>\n",
       "      <th>fuelTemp</th>\n",
       "      <th>fuelVolumeFlowRate</th>\n",
       "      <th>inclinometer-raw</th>\n",
       "      <th>speedKnots</th>\n",
       "      <th>starboardPitch</th>\n",
       "      <th>starboardRudder</th>\n",
       "      <th>windAngle</th>\n",
       "      <th>windSpeed</th>\n",
       "    </tr>\n",
       "    <tr>\n",
       "      <th>Date</th>\n",
       "      <th></th>\n",
       "      <th></th>\n",
       "      <th></th>\n",
       "      <th></th>\n",
       "      <th></th>\n",
       "      <th></th>\n",
       "      <th></th>\n",
       "      <th></th>\n",
       "      <th></th>\n",
       "    </tr>\n",
       "  </thead>\n",
       "  <tbody>\n",
       "    <tr>\n",
       "      <th>2010-02-17 07:03:00</th>\n",
       "      <td>0.934025</td>\n",
       "      <td>90.419065</td>\n",
       "      <td>0.372824</td>\n",
       "      <td>357.440403</td>\n",
       "      <td>1.682258</td>\n",
       "      <td>2.564000</td>\n",
       "      <td>2.414050</td>\n",
       "      <td>260.700000</td>\n",
       "      <td>15.823333</td>\n",
       "    </tr>\n",
       "    <tr>\n",
       "      <th>2010-02-17 07:04:00</th>\n",
       "      <td>0.931635</td>\n",
       "      <td>92.398794</td>\n",
       "      <td>0.430857</td>\n",
       "      <td>357.857317</td>\n",
       "      <td>6.953333</td>\n",
       "      <td>5.764500</td>\n",
       "      <td>-1.215100</td>\n",
       "      <td>226.266667</td>\n",
       "      <td>14.970000</td>\n",
       "    </tr>\n",
       "    <tr>\n",
       "      <th>2010-02-17 07:05:00</th>\n",
       "      <td>0.933324</td>\n",
       "      <td>91.742111</td>\n",
       "      <td>0.412590</td>\n",
       "      <td>357.490806</td>\n",
       "      <td>11.632258</td>\n",
       "      <td>6.339667</td>\n",
       "      <td>1.264183</td>\n",
       "      <td>240.600000</td>\n",
       "      <td>12.686667</td>\n",
       "    </tr>\n",
       "    <tr>\n",
       "      <th>2010-02-17 07:06:00</th>\n",
       "      <td>0.935355</td>\n",
       "      <td>89.333152</td>\n",
       "      <td>0.488651</td>\n",
       "      <td>357.372258</td>\n",
       "      <td>13.283607</td>\n",
       "      <td>7.169367</td>\n",
       "      <td>0.523333</td>\n",
       "      <td>293.400000</td>\n",
       "      <td>21.266667</td>\n",
       "    </tr>\n",
       "    <tr>\n",
       "      <th>2010-02-17 07:07:00</th>\n",
       "      <td>0.932336</td>\n",
       "      <td>90.872902</td>\n",
       "      <td>0.478884</td>\n",
       "      <td>357.233821</td>\n",
       "      <td>15.614516</td>\n",
       "      <td>7.538550</td>\n",
       "      <td>-0.264900</td>\n",
       "      <td>310.066667</td>\n",
       "      <td>24.506667</td>\n",
       "    </tr>\n",
       "    <tr>\n",
       "      <th>...</th>\n",
       "      <td>...</td>\n",
       "      <td>...</td>\n",
       "      <td>...</td>\n",
       "      <td>...</td>\n",
       "      <td>...</td>\n",
       "      <td>...</td>\n",
       "      <td>...</td>\n",
       "      <td>...</td>\n",
       "      <td>...</td>\n",
       "    </tr>\n",
       "    <tr>\n",
       "      <th>2010-04-13 16:36:00</th>\n",
       "      <td>0.929180</td>\n",
       "      <td>97.281418</td>\n",
       "      <td>0.417196</td>\n",
       "      <td>357.257391</td>\n",
       "      <td>1.669643</td>\n",
       "      <td>-6.051400</td>\n",
       "      <td>-0.018709</td>\n",
       "      <td>15.892857</td>\n",
       "      <td>2.900000</td>\n",
       "    </tr>\n",
       "    <tr>\n",
       "      <th>2010-04-13 16:37:00</th>\n",
       "      <td>0.929383</td>\n",
       "      <td>97.263808</td>\n",
       "      <td>0.329081</td>\n",
       "      <td>357.257573</td>\n",
       "      <td>2.188889</td>\n",
       "      <td>-4.352431</td>\n",
       "      <td>1.701765</td>\n",
       "      <td>329.480000</td>\n",
       "      <td>0.896000</td>\n",
       "    </tr>\n",
       "    <tr>\n",
       "      <th>2010-04-13 16:38:00</th>\n",
       "      <td>0.929587</td>\n",
       "      <td>97.210036</td>\n",
       "      <td>0.284063</td>\n",
       "      <td>357.353629</td>\n",
       "      <td>2.863333</td>\n",
       "      <td>-1.608067</td>\n",
       "      <td>8.515100</td>\n",
       "      <td>303.300000</td>\n",
       "      <td>0.523333</td>\n",
       "    </tr>\n",
       "    <tr>\n",
       "      <th>2010-04-13 16:39:00</th>\n",
       "      <td>0.930193</td>\n",
       "      <td>96.807793</td>\n",
       "      <td>0.233788</td>\n",
       "      <td>357.351855</td>\n",
       "      <td>0.977049</td>\n",
       "      <td>1.136617</td>\n",
       "      <td>8.526833</td>\n",
       "      <td>332.833333</td>\n",
       "      <td>1.580000</td>\n",
       "    </tr>\n",
       "    <tr>\n",
       "      <th>2010-04-13 16:40:00</th>\n",
       "      <td>0.930086</td>\n",
       "      <td>96.764797</td>\n",
       "      <td>0.228446</td>\n",
       "      <td>357.310000</td>\n",
       "      <td>0.466667</td>\n",
       "      <td>2.213000</td>\n",
       "      <td>8.532500</td>\n",
       "      <td>0.000000</td>\n",
       "      <td>2.200000</td>\n",
       "    </tr>\n",
       "  </tbody>\n",
       "</table>\n",
       "<p>27989 rows × 9 columns</p>\n",
       "</div>"
      ],
      "text/plain": [
       "                     fuelDensity   fuelTemp  fuelVolumeFlowRate  \\\n",
       "Date                                                              \n",
       "2010-02-17 07:03:00     0.934025  90.419065            0.372824   \n",
       "2010-02-17 07:04:00     0.931635  92.398794            0.430857   \n",
       "2010-02-17 07:05:00     0.933324  91.742111            0.412590   \n",
       "2010-02-17 07:06:00     0.935355  89.333152            0.488651   \n",
       "2010-02-17 07:07:00     0.932336  90.872902            0.478884   \n",
       "...                          ...        ...                 ...   \n",
       "2010-04-13 16:36:00     0.929180  97.281418            0.417196   \n",
       "2010-04-13 16:37:00     0.929383  97.263808            0.329081   \n",
       "2010-04-13 16:38:00     0.929587  97.210036            0.284063   \n",
       "2010-04-13 16:39:00     0.930193  96.807793            0.233788   \n",
       "2010-04-13 16:40:00     0.930086  96.764797            0.228446   \n",
       "\n",
       "                     inclinometer-raw  speedKnots  starboardPitch  \\\n",
       "Date                                                                \n",
       "2010-02-17 07:03:00        357.440403    1.682258        2.564000   \n",
       "2010-02-17 07:04:00        357.857317    6.953333        5.764500   \n",
       "2010-02-17 07:05:00        357.490806   11.632258        6.339667   \n",
       "2010-02-17 07:06:00        357.372258   13.283607        7.169367   \n",
       "2010-02-17 07:07:00        357.233821   15.614516        7.538550   \n",
       "...                               ...         ...             ...   \n",
       "2010-04-13 16:36:00        357.257391    1.669643       -6.051400   \n",
       "2010-04-13 16:37:00        357.257573    2.188889       -4.352431   \n",
       "2010-04-13 16:38:00        357.353629    2.863333       -1.608067   \n",
       "2010-04-13 16:39:00        357.351855    0.977049        1.136617   \n",
       "2010-04-13 16:40:00        357.310000    0.466667        2.213000   \n",
       "\n",
       "                     starboardRudder   windAngle  windSpeed  \n",
       "Date                                                         \n",
       "2010-02-17 07:03:00         2.414050  260.700000  15.823333  \n",
       "2010-02-17 07:04:00        -1.215100  226.266667  14.970000  \n",
       "2010-02-17 07:05:00         1.264183  240.600000  12.686667  \n",
       "2010-02-17 07:06:00         0.523333  293.400000  21.266667  \n",
       "2010-02-17 07:07:00        -0.264900  310.066667  24.506667  \n",
       "...                              ...         ...        ...  \n",
       "2010-04-13 16:36:00        -0.018709   15.892857   2.900000  \n",
       "2010-04-13 16:37:00         1.701765  329.480000   0.896000  \n",
       "2010-04-13 16:38:00         8.515100  303.300000   0.523333  \n",
       "2010-04-13 16:39:00         8.526833  332.833333   1.580000  \n",
       "2010-04-13 16:40:00         8.532500    0.000000   2.200000  \n",
       "\n",
       "[27989 rows x 9 columns]"
      ]
     },
     "execution_count": 4,
     "metadata": {},
     "output_type": "execute_result"
    }
   ],
   "source": [
    "all_data.dropna()"
   ]
  },
  {
   "cell_type": "code",
   "execution_count": 5,
   "metadata": {},
   "outputs": [
    {
     "data": {
      "text/plain": [
       "<matplotlib.collections.PathCollection at 0x117c65c50>"
      ]
     },
     "execution_count": 5,
     "metadata": {},
     "output_type": "execute_result"
    },
    {
     "data": {
      "image/png": "[encoded data removed]",
      "text/plain": [
       "<Figure size 432x288 with 1 Axes>"
      ]
     },
     "metadata": {
      "needs_background": "light"
     },
     "output_type": "display_data"
    }
   ],
   "source": [
    "from matplotlib import pyplot as plt\n",
    "\n",
    "\n",
    "plt.scatter(all_data['fuelVolumeFlowRate'],all_data['speedKnots'])\n"
   ]
  },
  {
   "cell_type": "code",
   "execution_count": 8,
   "metadata": {},
   "outputs": [],
   "source": [
    "all_data = all_data.dropna()"
   ]
  },
  {
   "cell_type": "code",
   "execution_count": 10,
   "metadata": {},
   "outputs": [],
   "source": [
    "all_data.to_hdf('dtu_data_200210.hd5','table',complib='blosc',complevel=9)"
   ]
  },
  {
   "cell_type": "code",
   "execution_count": 9,
   "metadata": {},
   "outputs": [
    {
     "name": "stdout",
     "output_type": "stream",
     "text": [
      "Populating the interactive namespace from numpy and matplotlib\n"
     ]
    },
    {
     "data": {
      "text/plain": [
       "<matplotlib.axes._subplots.AxesSubplot at 0x118b710d0>"
      ]
     },
     "execution_count": 9,
     "metadata": {},
     "output_type": "execute_result"
    },
    {
     "data": {
      "image/png": "[encoded data removed]",
      "text/plain": [
       "<Figure size 432x288 with 1 Axes>"
      ]
     },
     "metadata": {
      "needs_background": "light"
     },
     "output_type": "display_data"
    }
   ],
   "source": [
    "%pylab inline\n",
    "all_data['fuelDensity'].plot()"
   ]
  },
  {
   "cell_type": "code",
   "execution_count": 11,
   "metadata": {},
   "outputs": [],
   "source": [
    "df_in = pd.read_hdf('dtu_data_200210.hd5','table')"
   ]
  },
  {
   "cell_type": "code",
   "execution_count": 13,
   "metadata": {},
   "outputs": [
    {
     "data": {
      "text/html": [
       "<div>\n",
       "<style scoped>\n",
       "    .dataframe tbody tr th:only-of-type {\n",
       "        vertical-align: middle;\n",
       "    }\n",
       "\n",
       "    .dataframe tbody tr th {\n",
       "        vertical-align: top;\n",
       "    }\n",
       "\n",
       "    .dataframe thead th {\n",
       "        text-align: right;\n",
       "    }\n",
       "</style>\n",
       "<table border=\"1\" class=\"dataframe\">\n",
       "  <thead>\n",
       "    <tr style=\"text-align: right;\">\n",
       "      <th></th>\n",
       "      <th>fuelDensity</th>\n",
       "      <th>fuelTemp</th>\n",
       "      <th>fuelVolumeFlowRate</th>\n",
       "      <th>inclinometer-raw</th>\n",
       "      <th>speedKnots</th>\n",
       "      <th>starboardPitch</th>\n",
       "      <th>starboardRudder</th>\n",
       "      <th>windAngle</th>\n",
       "      <th>windSpeed</th>\n",
       "    </tr>\n",
       "  </thead>\n",
       "  <tbody>\n",
       "    <tr>\n",
       "      <th>count</th>\n",
       "      <td>27989.000000</td>\n",
       "      <td>27989.000000</td>\n",
       "      <td>27989.000000</td>\n",
       "      <td>27989.000000</td>\n",
       "      <td>27989.000000</td>\n",
       "      <td>27989.000000</td>\n",
       "      <td>27989.000000</td>\n",
       "      <td>27989.000000</td>\n",
       "      <td>27989.000000</td>\n",
       "    </tr>\n",
       "    <tr>\n",
       "      <th>mean</th>\n",
       "      <td>0.926742</td>\n",
       "      <td>97.495162</td>\n",
       "      <td>0.585865</td>\n",
       "      <td>357.258274</td>\n",
       "      <td>17.790143</td>\n",
       "      <td>7.302772</td>\n",
       "      <td>0.190599</td>\n",
       "      <td>165.475000</td>\n",
       "      <td>13.873588</td>\n",
       "    </tr>\n",
       "    <tr>\n",
       "      <th>std</th>\n",
       "      <td>0.002549</td>\n",
       "      <td>2.018294</td>\n",
       "      <td>0.118143</td>\n",
       "      <td>0.145314</td>\n",
       "      <td>5.289917</td>\n",
       "      <td>2.757480</td>\n",
       "      <td>1.755135</td>\n",
       "      <td>135.502653</td>\n",
       "      <td>7.204126</td>\n",
       "    </tr>\n",
       "    <tr>\n",
       "      <th>min</th>\n",
       "      <td>0.922152</td>\n",
       "      <td>14.380964</td>\n",
       "      <td>0.000000</td>\n",
       "      <td>351.826048</td>\n",
       "      <td>0.200000</td>\n",
       "      <td>-8.109757</td>\n",
       "      <td>-8.177967</td>\n",
       "      <td>0.000000</td>\n",
       "      <td>0.000000</td>\n",
       "    </tr>\n",
       "    <tr>\n",
       "      <th>25%</th>\n",
       "      <td>0.925171</td>\n",
       "      <td>96.804502</td>\n",
       "      <td>0.592833</td>\n",
       "      <td>357.206935</td>\n",
       "      <td>18.300000</td>\n",
       "      <td>8.011800</td>\n",
       "      <td>-0.099567</td>\n",
       "      <td>25.733333</td>\n",
       "      <td>8.063333</td>\n",
       "    </tr>\n",
       "    <tr>\n",
       "      <th>50%</th>\n",
       "      <td>0.925896</td>\n",
       "      <td>97.832696</td>\n",
       "      <td>0.629456</td>\n",
       "      <td>357.250000</td>\n",
       "      <td>19.476667</td>\n",
       "      <td>8.258717</td>\n",
       "      <td>-0.041627</td>\n",
       "      <td>157.900000</td>\n",
       "      <td>13.386667</td>\n",
       "    </tr>\n",
       "    <tr>\n",
       "      <th>75%</th>\n",
       "      <td>0.927322</td>\n",
       "      <td>98.544494</td>\n",
       "      <td>0.647996</td>\n",
       "      <td>357.296016</td>\n",
       "      <td>20.443548</td>\n",
       "      <td>8.410400</td>\n",
       "      <td>0.016550</td>\n",
       "      <td>311.333333</td>\n",
       "      <td>19.143333</td>\n",
       "    </tr>\n",
       "    <tr>\n",
       "      <th>max</th>\n",
       "      <td>0.985009</td>\n",
       "      <td>103.831503</td>\n",
       "      <td>0.720782</td>\n",
       "      <td>358.117016</td>\n",
       "      <td>24.853968</td>\n",
       "      <td>8.904783</td>\n",
       "      <td>8.622900</td>\n",
       "      <td>357.366667</td>\n",
       "      <td>36.830000</td>\n",
       "    </tr>\n",
       "  </tbody>\n",
       "</table>\n",
       "</div>"
      ],
      "text/plain": [
       "        fuelDensity      fuelTemp  fuelVolumeFlowRate  inclinometer-raw  \\\n",
       "count  27989.000000  27989.000000        27989.000000      27989.000000   \n",
       "mean       0.926742     97.495162            0.585865        357.258274   \n",
       "std        0.002549      2.018294            0.118143          0.145314   \n",
       "min        0.922152     14.380964            0.000000        351.826048   \n",
       "25%        0.925171     96.804502            0.592833        357.206935   \n",
       "50%        0.925896     97.832696            0.629456        357.250000   \n",
       "75%        0.927322     98.544494            0.647996        357.296016   \n",
       "max        0.985009    103.831503            0.720782        358.117016   \n",
       "\n",
       "         speedKnots  starboardPitch  starboardRudder     windAngle  \\\n",
       "count  27989.000000    27989.000000     27989.000000  27989.000000   \n",
       "mean      17.790143        7.302772         0.190599    165.475000   \n",
       "std        5.289917        2.757480         1.755135    135.502653   \n",
       "min        0.200000       -8.109757        -8.177967      0.000000   \n",
       "25%       18.300000        8.011800        -0.099567     25.733333   \n",
       "50%       19.476667        8.258717        -0.041627    157.900000   \n",
       "75%       20.443548        8.410400         0.016550    311.333333   \n",
       "max       24.853968        8.904783         8.622900    357.366667   \n",
       "\n",
       "          windSpeed  \n",
       "count  27989.000000  \n",
       "mean      13.873588  \n",
       "std        7.204126  \n",
       "min        0.000000  \n",
       "25%        8.063333  \n",
       "50%       13.386667  \n",
       "75%       19.143333  \n",
       "max       36.830000  "
      ]
     },
     "execution_count": 13,
     "metadata": {},
     "output_type": "execute_result"
    }
   ],
   "source": [
    "df_in.describe()"
   ]
  },
  {
   "cell_type": "code",
   "execution_count": null,
   "metadata": {},
   "outputs": [],
   "source": []
  },
  {
   "cell_type": "code",
   "execution_count": null,
   "metadata": {},
   "outputs": [],
   "source": []
  },
  {
   "cell_type": "code",
   "execution_count": 5,
   "metadata": {},
   "outputs": [
    {
     "data": {
      "text/plain": [
       "DatetimeIndex(['2010-02-15 23:59:59.176038027',\n",
       "               '2010-02-15 23:59:59.662442923',\n",
       "               '2010-02-16 00:00:00.148231983',\n",
       "               '2010-02-16 00:00:00.633704901',\n",
       "               '2010-02-16 00:00:01.119421959',\n",
       "               '2010-02-16 00:00:01.604160070',\n",
       "               '2010-02-16 00:00:02.088880062',\n",
       "               '2010-02-16 00:00:02.573904991',\n",
       "               '2010-02-16 00:00:03.060281992',\n",
       "               '2010-02-16 00:00:03.545996904',\n",
       "               ...\n",
       "               '2010-04-13 16:39:57.951354027',\n",
       "               '2010-04-13 16:39:58.440388918',\n",
       "               '2010-04-13 16:39:58.925780058',\n",
       "               '2010-04-13 16:39:59.411482096',\n",
       "               '2010-04-13 16:39:59.896203041',\n",
       "               '2010-04-13 16:40:00.382380962',\n",
       "               '2010-04-13 16:40:00.867638111',\n",
       "               '2010-04-13 16:40:01.353343964',\n",
       "               '2010-04-13 16:40:01.838080883',\n",
       "               '2010-04-13 16:40:02.323769093'],\n",
       "              dtype='datetime64[ns]', name=0, length=3559677, freq=None)"
      ]
     },
     "execution_count": 5,
     "metadata": {},
     "output_type": "execute_result"
    }
   ],
   "source": [
    "### Testing ...\n",
    "\n",
    "\n",
    "\n",
    "pd.to_datetime((df.index-634018095139168000)/1e7,unit='s',origin='2010-02-16')"
   ]
  },
  {
   "cell_type": "code",
   "execution_count": null,
   "metadata": {},
   "outputs": [],
   "source": []
  }
 ],
 "metadata": {
  "kernelspec": {
   "display_name": "Python 3",
   "language": "python",
   "name": "python3"
  },
  "language_info": {
   "codemirror_mode": {
    "name": "ipython",
    "version": 3
   },
   "file_extension": ".py",
   "mimetype": "text/x-python",
   "name": "python",
   "nbconvert_exporter": "python",
   "pygments_lexer": "ipython3",
   "version": "3.7.6"
  }
 },
 "nbformat": 4,
 "nbformat_minor": 4
}
