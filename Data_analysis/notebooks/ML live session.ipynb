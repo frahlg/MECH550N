{
 "cells": [
  {
   "cell_type": "code",
   "execution_count": 1,
   "metadata": {},
   "outputs": [],
   "source": [
    "import pandas as pd\n",
    "import numpy as np\n",
    "import glob as glob"
   ]
  },
  {
   "cell_type": "code",
   "execution_count": 11,
   "metadata": {},
   "outputs": [],
   "source": [
    "database = '../data/merged_v3_datetime_selected_10min.hd5' # Already made\n"
   ]
  },
  {
   "cell_type": "code",
   "execution_count": 13,
   "metadata": {},
   "outputs": [],
   "source": [
    "df = pd.read_hdf(database,'table')"
   ]
  },
  {
   "cell_type": "code",
   "execution_count": 17,
   "metadata": {},
   "outputs": [
    {
     "data": {
      "text/plain": [
       "<matplotlib.axes._subplots.AxesSubplot at 0x1242e7250>"
      ]
     },
     "execution_count": 17,
     "metadata": {},
     "output_type": "execute_result"
    },
    {
     "data": {
      "image/png": "[encoded data removed]",
      "text/plain": [
       "<Figure size 432x288 with 1 Axes>"
      ]
     },
     "metadata": {
      "needs_background": "light"
     },
     "output_type": "display_data"
    }
   ],
   "source": [
    "df['2018-10-24':'2018-10-28'].plot()"
   ]
  },
  {
   "cell_type": "code",
   "execution_count": 18,
   "metadata": {},
   "outputs": [
    {
     "data": {
      "text/html": [
       "<div>\n",
       "<style scoped>\n",
       "    .dataframe tbody tr th:only-of-type {\n",
       "        vertical-align: middle;\n",
       "    }\n",
       "\n",
       "    .dataframe tbody tr th {\n",
       "        vertical-align: top;\n",
       "    }\n",
       "\n",
       "    .dataframe thead th {\n",
       "        text-align: right;\n",
       "    }\n",
       "</style>\n",
       "<table border=\"1\" class=\"dataframe\">\n",
       "  <thead>\n",
       "    <tr style=\"text-align: right;\">\n",
       "      <th></th>\n",
       "      <th>Aux Power1 (kW)</th>\n",
       "      <th>Consump1 Rate (kg/h)</th>\n",
       "      <th>Consump2 Rate  (kg/h)</th>\n",
       "      <th>Eng1 Tot1 Mass (kg)</th>\n",
       "      <th>Eng1 Tot2 Mass (kg)</th>\n",
       "      <th>Eng2 Tot1 Mass (kg)</th>\n",
       "      <th>Eng2 Tot2 Mass (kg)</th>\n",
       "      <th>Gps Speed (kn)</th>\n",
       "      <th>Power1 (kW)</th>\n",
       "      <th>Speed 1 (rpm)</th>\n",
       "      <th>SpeedlogSpeed (kn)</th>\n",
       "      <th>Torque 1 (kNm)</th>\n",
       "    </tr>\n",
       "  </thead>\n",
       "  <tbody>\n",
       "    <tr>\n",
       "      <th>count</th>\n",
       "      <td>9574.000000</td>\n",
       "      <td>9574.000000</td>\n",
       "      <td>9574.000000</td>\n",
       "      <td>9.574000e+03</td>\n",
       "      <td>9574.000000</td>\n",
       "      <td>9574.000000</td>\n",
       "      <td>9574.000000</td>\n",
       "      <td>9574.000000</td>\n",
       "      <td>9574.000000</td>\n",
       "      <td>9574.000000</td>\n",
       "      <td>9574.000000</td>\n",
       "      <td>9574.000000</td>\n",
       "    </tr>\n",
       "    <tr>\n",
       "      <th>mean</th>\n",
       "      <td>414.904080</td>\n",
       "      <td>951.754023</td>\n",
       "      <td>101.851616</td>\n",
       "      <td>1.955836e+06</td>\n",
       "      <td>77761.683528</td>\n",
       "      <td>257410.394439</td>\n",
       "      <td>50191.535701</td>\n",
       "      <td>11.648853</td>\n",
       "      <td>4589.973685</td>\n",
       "      <td>73.313767</td>\n",
       "      <td>12.111617</td>\n",
       "      <td>583.202755</td>\n",
       "    </tr>\n",
       "    <tr>\n",
       "      <th>std</th>\n",
       "      <td>96.699385</td>\n",
       "      <td>211.180006</td>\n",
       "      <td>13.789681</td>\n",
       "      <td>5.957853e+05</td>\n",
       "      <td>4246.281958</td>\n",
       "      <td>72733.749947</td>\n",
       "      <td>5318.244246</td>\n",
       "      <td>2.002477</td>\n",
       "      <td>1010.132076</td>\n",
       "      <td>10.537952</td>\n",
       "      <td>1.984008</td>\n",
       "      <td>106.460524</td>\n",
       "    </tr>\n",
       "    <tr>\n",
       "      <th>min</th>\n",
       "      <td>247.200000</td>\n",
       "      <td>0.000000</td>\n",
       "      <td>0.000000</td>\n",
       "      <td>1.040566e+06</td>\n",
       "      <td>73799.000000</td>\n",
       "      <td>155042.000000</td>\n",
       "      <td>44964.300000</td>\n",
       "      <td>0.000000</td>\n",
       "      <td>0.000000</td>\n",
       "      <td>0.000000</td>\n",
       "      <td>0.000000</td>\n",
       "      <td>0.500000</td>\n",
       "    </tr>\n",
       "    <tr>\n",
       "      <th>25%</th>\n",
       "      <td>370.500000</td>\n",
       "      <td>823.720000</td>\n",
       "      <td>93.332500</td>\n",
       "      <td>1.511497e+06</td>\n",
       "      <td>74495.000000</td>\n",
       "      <td>193993.825000</td>\n",
       "      <td>45181.000000</td>\n",
       "      <td>10.910000</td>\n",
       "      <td>4049.325000</td>\n",
       "      <td>72.000000</td>\n",
       "      <td>11.800000</td>\n",
       "      <td>535.100000</td>\n",
       "    </tr>\n",
       "    <tr>\n",
       "      <th>50%</th>\n",
       "      <td>391.800000</td>\n",
       "      <td>984.235000</td>\n",
       "      <td>99.690000</td>\n",
       "      <td>1.876369e+06</td>\n",
       "      <td>76908.000000</td>\n",
       "      <td>252138.150000</td>\n",
       "      <td>51114.000000</td>\n",
       "      <td>12.190000</td>\n",
       "      <td>4605.750000</td>\n",
       "      <td>74.400000</td>\n",
       "      <td>12.680000</td>\n",
       "      <td>594.450000</td>\n",
       "    </tr>\n",
       "    <tr>\n",
       "      <th>75%</th>\n",
       "      <td>414.800000</td>\n",
       "      <td>1086.172500</td>\n",
       "      <td>106.200000</td>\n",
       "      <td>2.223783e+06</td>\n",
       "      <td>76908.000000</td>\n",
       "      <td>297311.600000</td>\n",
       "      <td>51114.000000</td>\n",
       "      <td>12.790000</td>\n",
       "      <td>5179.975000</td>\n",
       "      <td>77.000000</td>\n",
       "      <td>13.110000</td>\n",
       "      <td>643.100000</td>\n",
       "    </tr>\n",
       "    <tr>\n",
       "      <th>max</th>\n",
       "      <td>997.900000</td>\n",
       "      <td>1368.910000</td>\n",
       "      <td>186.070000</td>\n",
       "      <td>3.158245e+06</td>\n",
       "      <td>93615.000000</td>\n",
       "      <td>396187.000000</td>\n",
       "      <td>62045.900000</td>\n",
       "      <td>16.840000</td>\n",
       "      <td>6606.100000</td>\n",
       "      <td>83.700000</td>\n",
       "      <td>14.580000</td>\n",
       "      <td>761.100000</td>\n",
       "    </tr>\n",
       "  </tbody>\n",
       "</table>\n",
       "</div>"
      ],
      "text/plain": [
       "       Aux Power1 (kW)  Consump1 Rate (kg/h)  Consump2 Rate  (kg/h)  \\\n",
       "count      9574.000000           9574.000000            9574.000000   \n",
       "mean        414.904080            951.754023             101.851616   \n",
       "std          96.699385            211.180006              13.789681   \n",
       "min         247.200000              0.000000               0.000000   \n",
       "25%         370.500000            823.720000              93.332500   \n",
       "50%         391.800000            984.235000              99.690000   \n",
       "75%         414.800000           1086.172500             106.200000   \n",
       "max         997.900000           1368.910000             186.070000   \n",
       "\n",
       "       Eng1 Tot1 Mass (kg)  Eng1 Tot2 Mass (kg)  Eng2 Tot1 Mass (kg)  \\\n",
       "count         9.574000e+03          9574.000000          9574.000000   \n",
       "mean          1.955836e+06         77761.683528        257410.394439   \n",
       "std           5.957853e+05          4246.281958         72733.749947   \n",
       "min           1.040566e+06         73799.000000        155042.000000   \n",
       "25%           1.511497e+06         74495.000000        193993.825000   \n",
       "50%           1.876369e+06         76908.000000        252138.150000   \n",
       "75%           2.223783e+06         76908.000000        297311.600000   \n",
       "max           3.158245e+06         93615.000000        396187.000000   \n",
       "\n",
       "       Eng2 Tot2 Mass (kg)  Gps Speed (kn)  Power1 (kW)  Speed 1 (rpm)  \\\n",
       "count          9574.000000     9574.000000  9574.000000    9574.000000   \n",
       "mean          50191.535701       11.648853  4589.973685      73.313767   \n",
       "std            5318.244246        2.002477  1010.132076      10.537952   \n",
       "min           44964.300000        0.000000     0.000000       0.000000   \n",
       "25%           45181.000000       10.910000  4049.325000      72.000000   \n",
       "50%           51114.000000       12.190000  4605.750000      74.400000   \n",
       "75%           51114.000000       12.790000  5179.975000      77.000000   \n",
       "max           62045.900000       16.840000  6606.100000      83.700000   \n",
       "\n",
       "       SpeedlogSpeed (kn)  Torque 1 (kNm)  \n",
       "count         9574.000000     9574.000000  \n",
       "mean            12.111617      583.202755  \n",
       "std              1.984008      106.460524  \n",
       "min              0.000000        0.500000  \n",
       "25%             11.800000      535.100000  \n",
       "50%             12.680000      594.450000  \n",
       "75%             13.110000      643.100000  \n",
       "max             14.580000      761.100000  "
      ]
     },
     "execution_count": 18,
     "metadata": {},
     "output_type": "execute_result"
    }
   ],
   "source": [
    "df.describe()"
   ]
  },
  {
   "cell_type": "code",
   "execution_count": 53,
   "metadata": {},
   "outputs": [],
   "source": [
    "df = df.dropna()"
   ]
  },
  {
   "cell_type": "code",
   "execution_count": 55,
   "metadata": {},
   "outputs": [
    {
     "data": {
      "text/html": [
       "<div>\n",
       "<style scoped>\n",
       "    .dataframe tbody tr th:only-of-type {\n",
       "        vertical-align: middle;\n",
       "    }\n",
       "\n",
       "    .dataframe tbody tr th {\n",
       "        vertical-align: top;\n",
       "    }\n",
       "\n",
       "    .dataframe thead th {\n",
       "        text-align: right;\n",
       "    }\n",
       "</style>\n",
       "<table border=\"1\" class=\"dataframe\">\n",
       "  <thead>\n",
       "    <tr style=\"text-align: right;\">\n",
       "      <th></th>\n",
       "      <th>Aux Power1 (kW)</th>\n",
       "      <th>Consump1 Rate (kg/h)</th>\n",
       "      <th>Consump2 Rate  (kg/h)</th>\n",
       "      <th>Eng1 Tot1 Mass (kg)</th>\n",
       "      <th>Eng1 Tot2 Mass (kg)</th>\n",
       "      <th>Eng2 Tot1 Mass (kg)</th>\n",
       "      <th>Eng2 Tot2 Mass (kg)</th>\n",
       "      <th>Gps Speed (kn)</th>\n",
       "      <th>Power1 (kW)</th>\n",
       "      <th>Speed 1 (rpm)</th>\n",
       "      <th>SpeedlogSpeed (kn)</th>\n",
       "      <th>Torque 1 (kNm)</th>\n",
       "    </tr>\n",
       "  </thead>\n",
       "  <tbody>\n",
       "    <tr>\n",
       "      <th>2018-10-23 19:00:00</th>\n",
       "      <td>384.9</td>\n",
       "      <td>0.00</td>\n",
       "      <td>79.56</td>\n",
       "      <td>1040566.0</td>\n",
       "      <td>73799.0</td>\n",
       "      <td>155042.0</td>\n",
       "      <td>44964.3</td>\n",
       "      <td>0.11</td>\n",
       "      <td>0.0</td>\n",
       "      <td>0.0</td>\n",
       "      <td>0.0</td>\n",
       "      <td>6.7</td>\n",
       "    </tr>\n",
       "    <tr>\n",
       "      <th>2018-10-23 19:10:00</th>\n",
       "      <td>487.4</td>\n",
       "      <td>0.00</td>\n",
       "      <td>92.32</td>\n",
       "      <td>1040566.0</td>\n",
       "      <td>73799.0</td>\n",
       "      <td>155042.0</td>\n",
       "      <td>44977.7</td>\n",
       "      <td>0.13</td>\n",
       "      <td>0.0</td>\n",
       "      <td>0.0</td>\n",
       "      <td>0.0</td>\n",
       "      <td>6.0</td>\n",
       "    </tr>\n",
       "    <tr>\n",
       "      <th>2018-10-23 19:20:00</th>\n",
       "      <td>739.3</td>\n",
       "      <td>0.34</td>\n",
       "      <td>118.10</td>\n",
       "      <td>1040566.0</td>\n",
       "      <td>73799.0</td>\n",
       "      <td>155042.0</td>\n",
       "      <td>44995.1</td>\n",
       "      <td>0.11</td>\n",
       "      <td>40.0</td>\n",
       "      <td>3.2</td>\n",
       "      <td>0.0</td>\n",
       "      <td>20.7</td>\n",
       "    </tr>\n",
       "    <tr>\n",
       "      <th>2018-10-23 19:30:00</th>\n",
       "      <td>915.0</td>\n",
       "      <td>0.00</td>\n",
       "      <td>140.06</td>\n",
       "      <td>1040566.0</td>\n",
       "      <td>73799.0</td>\n",
       "      <td>155042.0</td>\n",
       "      <td>45016.7</td>\n",
       "      <td>0.21</td>\n",
       "      <td>20.3</td>\n",
       "      <td>1.2</td>\n",
       "      <td>0.0</td>\n",
       "      <td>13.5</td>\n",
       "    </tr>\n",
       "    <tr>\n",
       "      <th>2018-10-23 19:40:00</th>\n",
       "      <td>899.7</td>\n",
       "      <td>0.00</td>\n",
       "      <td>139.03</td>\n",
       "      <td>1040566.0</td>\n",
       "      <td>73799.0</td>\n",
       "      <td>155042.0</td>\n",
       "      <td>45040.0</td>\n",
       "      <td>0.37</td>\n",
       "      <td>85.6</td>\n",
       "      <td>4.9</td>\n",
       "      <td>0.0</td>\n",
       "      <td>26.6</td>\n",
       "    </tr>\n",
       "    <tr>\n",
       "      <th>...</th>\n",
       "      <td>...</td>\n",
       "      <td>...</td>\n",
       "      <td>...</td>\n",
       "      <td>...</td>\n",
       "      <td>...</td>\n",
       "      <td>...</td>\n",
       "      <td>...</td>\n",
       "      <td>...</td>\n",
       "      <td>...</td>\n",
       "      <td>...</td>\n",
       "      <td>...</td>\n",
       "      <td>...</td>\n",
       "    </tr>\n",
       "    <tr>\n",
       "      <th>2019-02-08 13:20:00</th>\n",
       "      <td>257.3</td>\n",
       "      <td>0.00</td>\n",
       "      <td>71.53</td>\n",
       "      <td>3158245.0</td>\n",
       "      <td>93613.0</td>\n",
       "      <td>396187.0</td>\n",
       "      <td>61994.8</td>\n",
       "      <td>0.20</td>\n",
       "      <td>0.0</td>\n",
       "      <td>0.0</td>\n",
       "      <td>0.0</td>\n",
       "      <td>6.0</td>\n",
       "    </tr>\n",
       "    <tr>\n",
       "      <th>2019-02-08 13:30:00</th>\n",
       "      <td>265.4</td>\n",
       "      <td>0.00</td>\n",
       "      <td>73.23</td>\n",
       "      <td>3158245.0</td>\n",
       "      <td>93613.0</td>\n",
       "      <td>396187.0</td>\n",
       "      <td>62007.2</td>\n",
       "      <td>0.23</td>\n",
       "      <td>0.0</td>\n",
       "      <td>0.0</td>\n",
       "      <td>0.0</td>\n",
       "      <td>6.0</td>\n",
       "    </tr>\n",
       "    <tr>\n",
       "      <th>2019-02-08 13:40:00</th>\n",
       "      <td>259.1</td>\n",
       "      <td>10.93</td>\n",
       "      <td>71.98</td>\n",
       "      <td>3158245.0</td>\n",
       "      <td>93613.0</td>\n",
       "      <td>396187.0</td>\n",
       "      <td>62019.2</td>\n",
       "      <td>0.19</td>\n",
       "      <td>0.0</td>\n",
       "      <td>0.0</td>\n",
       "      <td>0.0</td>\n",
       "      <td>6.0</td>\n",
       "    </tr>\n",
       "    <tr>\n",
       "      <th>2019-02-08 13:50:00</th>\n",
       "      <td>297.0</td>\n",
       "      <td>0.18</td>\n",
       "      <td>77.47</td>\n",
       "      <td>3158245.0</td>\n",
       "      <td>93614.6</td>\n",
       "      <td>396187.0</td>\n",
       "      <td>62031.6</td>\n",
       "      <td>0.16</td>\n",
       "      <td>0.0</td>\n",
       "      <td>0.0</td>\n",
       "      <td>0.0</td>\n",
       "      <td>2.4</td>\n",
       "    </tr>\n",
       "    <tr>\n",
       "      <th>2019-02-08 14:00:00</th>\n",
       "      <td>547.1</td>\n",
       "      <td>0.00</td>\n",
       "      <td>101.27</td>\n",
       "      <td>3158245.0</td>\n",
       "      <td>93615.0</td>\n",
       "      <td>396187.0</td>\n",
       "      <td>62045.9</td>\n",
       "      <td>0.16</td>\n",
       "      <td>0.0</td>\n",
       "      <td>0.0</td>\n",
       "      <td>0.0</td>\n",
       "      <td>3.0</td>\n",
       "    </tr>\n",
       "  </tbody>\n",
       "</table>\n",
       "<p>9574 rows × 12 columns</p>\n",
       "</div>"
      ],
      "text/plain": [
       "                     Aux Power1 (kW)  Consump1 Rate (kg/h)  \\\n",
       "2018-10-23 19:00:00            384.9                  0.00   \n",
       "2018-10-23 19:10:00            487.4                  0.00   \n",
       "2018-10-23 19:20:00            739.3                  0.34   \n",
       "2018-10-23 19:30:00            915.0                  0.00   \n",
       "2018-10-23 19:40:00            899.7                  0.00   \n",
       "...                              ...                   ...   \n",
       "2019-02-08 13:20:00            257.3                  0.00   \n",
       "2019-02-08 13:30:00            265.4                  0.00   \n",
       "2019-02-08 13:40:00            259.1                 10.93   \n",
       "2019-02-08 13:50:00            297.0                  0.18   \n",
       "2019-02-08 14:00:00            547.1                  0.00   \n",
       "\n",
       "                     Consump2 Rate  (kg/h)  Eng1 Tot1 Mass (kg)  \\\n",
       "2018-10-23 19:00:00                  79.56            1040566.0   \n",
       "2018-10-23 19:10:00                  92.32            1040566.0   \n",
       "2018-10-23 19:20:00                 118.10            1040566.0   \n",
       "2018-10-23 19:30:00                 140.06            1040566.0   \n",
       "2018-10-23 19:40:00                 139.03            1040566.0   \n",
       "...                                    ...                  ...   \n",
       "2019-02-08 13:20:00                  71.53            3158245.0   \n",
       "2019-02-08 13:30:00                  73.23            3158245.0   \n",
       "2019-02-08 13:40:00                  71.98            3158245.0   \n",
       "2019-02-08 13:50:00                  77.47            3158245.0   \n",
       "2019-02-08 14:00:00                 101.27            3158245.0   \n",
       "\n",
       "                     Eng1 Tot2 Mass (kg)  Eng2 Tot1 Mass (kg)  \\\n",
       "2018-10-23 19:00:00              73799.0             155042.0   \n",
       "2018-10-23 19:10:00              73799.0             155042.0   \n",
       "2018-10-23 19:20:00              73799.0             155042.0   \n",
       "2018-10-23 19:30:00              73799.0             155042.0   \n",
       "2018-10-23 19:40:00              73799.0             155042.0   \n",
       "...                                  ...                  ...   \n",
       "2019-02-08 13:20:00              93613.0             396187.0   \n",
       "2019-02-08 13:30:00              93613.0             396187.0   \n",
       "2019-02-08 13:40:00              93613.0             396187.0   \n",
       "2019-02-08 13:50:00              93614.6             396187.0   \n",
       "2019-02-08 14:00:00              93615.0             396187.0   \n",
       "\n",
       "                     Eng2 Tot2 Mass (kg)  Gps Speed (kn)  Power1 (kW)  \\\n",
       "2018-10-23 19:00:00              44964.3            0.11          0.0   \n",
       "2018-10-23 19:10:00              44977.7            0.13          0.0   \n",
       "2018-10-23 19:20:00              44995.1            0.11         40.0   \n",
       "2018-10-23 19:30:00              45016.7            0.21         20.3   \n",
       "2018-10-23 19:40:00              45040.0            0.37         85.6   \n",
       "...                                  ...             ...          ...   \n",
       "2019-02-08 13:20:00              61994.8            0.20          0.0   \n",
       "2019-02-08 13:30:00              62007.2            0.23          0.0   \n",
       "2019-02-08 13:40:00              62019.2            0.19          0.0   \n",
       "2019-02-08 13:50:00              62031.6            0.16          0.0   \n",
       "2019-02-08 14:00:00              62045.9            0.16          0.0   \n",
       "\n",
       "                     Speed 1 (rpm)  SpeedlogSpeed (kn)  Torque 1 (kNm)  \n",
       "2018-10-23 19:00:00            0.0                 0.0             6.7  \n",
       "2018-10-23 19:10:00            0.0                 0.0             6.0  \n",
       "2018-10-23 19:20:00            3.2                 0.0            20.7  \n",
       "2018-10-23 19:30:00            1.2                 0.0            13.5  \n",
       "2018-10-23 19:40:00            4.9                 0.0            26.6  \n",
       "...                            ...                 ...             ...  \n",
       "2019-02-08 13:20:00            0.0                 0.0             6.0  \n",
       "2019-02-08 13:30:00            0.0                 0.0             6.0  \n",
       "2019-02-08 13:40:00            0.0                 0.0             6.0  \n",
       "2019-02-08 13:50:00            0.0                 0.0             2.4  \n",
       "2019-02-08 14:00:00            0.0                 0.0             3.0  \n",
       "\n",
       "[9574 rows x 12 columns]"
      ]
     },
     "execution_count": 55,
     "metadata": {},
     "output_type": "execute_result"
    }
   ],
   "source": [
    "df"
   ]
  },
  {
   "cell_type": "code",
   "execution_count": 56,
   "metadata": {},
   "outputs": [],
   "source": [
    "features = list(df)"
   ]
  },
  {
   "cell_type": "code",
   "execution_count": 57,
   "metadata": {},
   "outputs": [
    {
     "data": {
      "text/plain": [
       "['Aux Power1 (kW)',\n",
       " 'Consump1 Rate (kg/h)',\n",
       " 'Consump2 Rate  (kg/h)',\n",
       " 'Eng1 Tot1 Mass (kg)',\n",
       " 'Eng1 Tot2 Mass (kg)',\n",
       " 'Eng2 Tot1 Mass (kg)',\n",
       " 'Eng2 Tot2 Mass (kg)',\n",
       " 'Gps Speed (kn)',\n",
       " 'Power1 (kW)',\n",
       " 'Speed 1 (rpm)',\n",
       " 'SpeedlogSpeed (kn)',\n",
       " 'Torque 1 (kNm)']"
      ]
     },
     "execution_count": 57,
     "metadata": {},
     "output_type": "execute_result"
    }
   ],
   "source": [
    "features"
   ]
  },
  {
   "cell_type": "code",
   "execution_count": 58,
   "metadata": {},
   "outputs": [
    {
     "data": {
      "text/plain": [
       "<matplotlib.axes._subplots.AxesSubplot at 0x1a28fd6fd0>"
      ]
     },
     "execution_count": 58,
     "metadata": {},
     "output_type": "execute_result"
    },
    {
     "data": {
      "image/png": "[encoded data removed]",
      "text/plain": [
       "<Figure size 432x288 with 1 Axes>"
      ]
     },
     "metadata": {
      "needs_background": "light"
     },
     "output_type": "display_data"
    }
   ],
   "source": [
    "df[features[1]].plot() # For the ME"
   ]
  },
  {
   "cell_type": "code",
   "execution_count": 59,
   "metadata": {},
   "outputs": [],
   "source": [
    "label = features[1]"
   ]
  },
  {
   "cell_type": "code",
   "execution_count": 60,
   "metadata": {},
   "outputs": [
    {
     "data": {
      "text/plain": [
       "'Consump1 Rate (kg/h)'"
      ]
     },
     "execution_count": 60,
     "metadata": {},
     "output_type": "execute_result"
    }
   ],
   "source": [
    "label"
   ]
  },
  {
   "cell_type": "code",
   "execution_count": 61,
   "metadata": {},
   "outputs": [
    {
     "data": {
      "text/plain": [
       "2018-10-23 19:00:00     0.00\n",
       "2018-10-23 19:10:00     0.00\n",
       "2018-10-23 19:20:00     0.34\n",
       "2018-10-23 19:30:00     0.00\n",
       "2018-10-23 19:40:00     0.00\n",
       "                       ...  \n",
       "2019-02-08 13:20:00     0.00\n",
       "2019-02-08 13:30:00     0.00\n",
       "2019-02-08 13:40:00    10.93\n",
       "2019-02-08 13:50:00     0.18\n",
       "2019-02-08 14:00:00     0.00\n",
       "Name: Consump1 Rate (kg/h), Length: 9574, dtype: float64"
      ]
     },
     "execution_count": 61,
     "metadata": {},
     "output_type": "execute_result"
    }
   ],
   "source": [
    "df[label]"
   ]
  },
  {
   "cell_type": "code",
   "execution_count": 62,
   "metadata": {},
   "outputs": [],
   "source": [
    "test_features = [features[7],\n",
    "                 features[8],\n",
    "                 features[9],\n",
    "                 features[10],\n",
    "                 features[11]] # Using Torque, Speed rpm, Ship speed (log)"
   ]
  },
  {
   "cell_type": "code",
   "execution_count": 63,
   "metadata": {},
   "outputs": [
    {
     "data": {
      "text/plain": [
       "['Gps Speed (kn)',\n",
       " 'Power1 (kW)',\n",
       " 'Speed 1 (rpm)',\n",
       " 'SpeedlogSpeed (kn)',\n",
       " 'Torque 1 (kNm)']"
      ]
     },
     "execution_count": 63,
     "metadata": {},
     "output_type": "execute_result"
    }
   ],
   "source": [
    "test_features"
   ]
  },
  {
   "cell_type": "code",
   "execution_count": 64,
   "metadata": {},
   "outputs": [],
   "source": [
    "# Create new dataframe for training\n",
    "\n",
    "df_train = pd.DataFrame()\n",
    "for n_ in test_features:\n",
    "    df_train[n_] = df[n_]"
   ]
  },
  {
   "cell_type": "code",
   "execution_count": 65,
   "metadata": {},
   "outputs": [
    {
     "data": {
      "text/html": [
       "<div>\n",
       "<style scoped>\n",
       "    .dataframe tbody tr th:only-of-type {\n",
       "        vertical-align: middle;\n",
       "    }\n",
       "\n",
       "    .dataframe tbody tr th {\n",
       "        vertical-align: top;\n",
       "    }\n",
       "\n",
       "    .dataframe thead th {\n",
       "        text-align: right;\n",
       "    }\n",
       "</style>\n",
       "<table border=\"1\" class=\"dataframe\">\n",
       "  <thead>\n",
       "    <tr style=\"text-align: right;\">\n",
       "      <th></th>\n",
       "      <th>Gps Speed (kn)</th>\n",
       "      <th>Power1 (kW)</th>\n",
       "      <th>Speed 1 (rpm)</th>\n",
       "      <th>SpeedlogSpeed (kn)</th>\n",
       "      <th>Torque 1 (kNm)</th>\n",
       "    </tr>\n",
       "  </thead>\n",
       "  <tbody>\n",
       "    <tr>\n",
       "      <th>2018-10-23 19:00:00</th>\n",
       "      <td>0.11</td>\n",
       "      <td>0.0</td>\n",
       "      <td>0.0</td>\n",
       "      <td>0.0</td>\n",
       "      <td>6.7</td>\n",
       "    </tr>\n",
       "    <tr>\n",
       "      <th>2018-10-23 19:10:00</th>\n",
       "      <td>0.13</td>\n",
       "      <td>0.0</td>\n",
       "      <td>0.0</td>\n",
       "      <td>0.0</td>\n",
       "      <td>6.0</td>\n",
       "    </tr>\n",
       "    <tr>\n",
       "      <th>2018-10-23 19:20:00</th>\n",
       "      <td>0.11</td>\n",
       "      <td>40.0</td>\n",
       "      <td>3.2</td>\n",
       "      <td>0.0</td>\n",
       "      <td>20.7</td>\n",
       "    </tr>\n",
       "    <tr>\n",
       "      <th>2018-10-23 19:30:00</th>\n",
       "      <td>0.21</td>\n",
       "      <td>20.3</td>\n",
       "      <td>1.2</td>\n",
       "      <td>0.0</td>\n",
       "      <td>13.5</td>\n",
       "    </tr>\n",
       "    <tr>\n",
       "      <th>2018-10-23 19:40:00</th>\n",
       "      <td>0.37</td>\n",
       "      <td>85.6</td>\n",
       "      <td>4.9</td>\n",
       "      <td>0.0</td>\n",
       "      <td>26.6</td>\n",
       "    </tr>\n",
       "    <tr>\n",
       "      <th>...</th>\n",
       "      <td>...</td>\n",
       "      <td>...</td>\n",
       "      <td>...</td>\n",
       "      <td>...</td>\n",
       "      <td>...</td>\n",
       "    </tr>\n",
       "    <tr>\n",
       "      <th>2019-02-08 13:20:00</th>\n",
       "      <td>0.20</td>\n",
       "      <td>0.0</td>\n",
       "      <td>0.0</td>\n",
       "      <td>0.0</td>\n",
       "      <td>6.0</td>\n",
       "    </tr>\n",
       "    <tr>\n",
       "      <th>2019-02-08 13:30:00</th>\n",
       "      <td>0.23</td>\n",
       "      <td>0.0</td>\n",
       "      <td>0.0</td>\n",
       "      <td>0.0</td>\n",
       "      <td>6.0</td>\n",
       "    </tr>\n",
       "    <tr>\n",
       "      <th>2019-02-08 13:40:00</th>\n",
       "      <td>0.19</td>\n",
       "      <td>0.0</td>\n",
       "      <td>0.0</td>\n",
       "      <td>0.0</td>\n",
       "      <td>6.0</td>\n",
       "    </tr>\n",
       "    <tr>\n",
       "      <th>2019-02-08 13:50:00</th>\n",
       "      <td>0.16</td>\n",
       "      <td>0.0</td>\n",
       "      <td>0.0</td>\n",
       "      <td>0.0</td>\n",
       "      <td>2.4</td>\n",
       "    </tr>\n",
       "    <tr>\n",
       "      <th>2019-02-08 14:00:00</th>\n",
       "      <td>0.16</td>\n",
       "      <td>0.0</td>\n",
       "      <td>0.0</td>\n",
       "      <td>0.0</td>\n",
       "      <td>3.0</td>\n",
       "    </tr>\n",
       "  </tbody>\n",
       "</table>\n",
       "<p>9574 rows × 5 columns</p>\n",
       "</div>"
      ],
      "text/plain": [
       "                     Gps Speed (kn)  Power1 (kW)  Speed 1 (rpm)  \\\n",
       "2018-10-23 19:00:00            0.11          0.0            0.0   \n",
       "2018-10-23 19:10:00            0.13          0.0            0.0   \n",
       "2018-10-23 19:20:00            0.11         40.0            3.2   \n",
       "2018-10-23 19:30:00            0.21         20.3            1.2   \n",
       "2018-10-23 19:40:00            0.37         85.6            4.9   \n",
       "...                             ...          ...            ...   \n",
       "2019-02-08 13:20:00            0.20          0.0            0.0   \n",
       "2019-02-08 13:30:00            0.23          0.0            0.0   \n",
       "2019-02-08 13:40:00            0.19          0.0            0.0   \n",
       "2019-02-08 13:50:00            0.16          0.0            0.0   \n",
       "2019-02-08 14:00:00            0.16          0.0            0.0   \n",
       "\n",
       "                     SpeedlogSpeed (kn)  Torque 1 (kNm)  \n",
       "2018-10-23 19:00:00                 0.0             6.7  \n",
       "2018-10-23 19:10:00                 0.0             6.0  \n",
       "2018-10-23 19:20:00                 0.0            20.7  \n",
       "2018-10-23 19:30:00                 0.0            13.5  \n",
       "2018-10-23 19:40:00                 0.0            26.6  \n",
       "...                                 ...             ...  \n",
       "2019-02-08 13:20:00                 0.0             6.0  \n",
       "2019-02-08 13:30:00                 0.0             6.0  \n",
       "2019-02-08 13:40:00                 0.0             6.0  \n",
       "2019-02-08 13:50:00                 0.0             2.4  \n",
       "2019-02-08 14:00:00                 0.0             3.0  \n",
       "\n",
       "[9574 rows x 5 columns]"
      ]
     },
     "execution_count": 65,
     "metadata": {},
     "output_type": "execute_result"
    }
   ],
   "source": [
    "df_train"
   ]
  },
  {
   "cell_type": "code",
   "execution_count": 66,
   "metadata": {},
   "outputs": [],
   "source": [
    "X = np.array(df_train)\n",
    "y = np.array(df[label])"
   ]
  },
  {
   "cell_type": "code",
   "execution_count": 67,
   "metadata": {},
   "outputs": [
    {
     "data": {
      "text/plain": [
       "(9574, 5)"
      ]
     },
     "execution_count": 67,
     "metadata": {},
     "output_type": "execute_result"
    }
   ],
   "source": [
    "X.shape"
   ]
  },
  {
   "cell_type": "code",
   "execution_count": 68,
   "metadata": {},
   "outputs": [
    {
     "data": {
      "text/plain": [
       "(9574,)"
      ]
     },
     "execution_count": 68,
     "metadata": {},
     "output_type": "execute_result"
    }
   ],
   "source": [
    "y.shape"
   ]
  },
  {
   "cell_type": "code",
   "execution_count": 82,
   "metadata": {},
   "outputs": [
    {
     "name": "stdout",
     "output_type": "stream",
     "text": [
      "Populating the interactive namespace from numpy and matplotlib\n"
     ]
    }
   ],
   "source": [
    "import sklearn as sk\n",
    "from sklearn.model_selection import train_test_split\n",
    "from sklearn import linear_model\n",
    "from sklearn.metrics import mean_squared_error\n",
    "from sklearn.metrics import r2_score\n",
    "import numpy as np\n",
    "%pylab inline\n",
    "\n",
    "\n"
   ]
  },
  {
   "cell_type": "code",
   "execution_count": 70,
   "metadata": {},
   "outputs": [],
   "source": [
    "X_train, X_test, y_train, y_test = train_test_split(X, y, train_size=0.75, test_size=0.25, random_state=42)\n"
   ]
  },
  {
   "cell_type": "code",
   "execution_count": 71,
   "metadata": {},
   "outputs": [
    {
     "data": {
      "text/plain": [
       "array([[1.1210e+01, 5.5449e+03, 7.8800e+01, 1.2160e+01, 6.7390e+02],\n",
       "       [4.9000e+00, 5.3840e+02, 3.6000e+01, 4.6700e+00, 1.4240e+02],\n",
       "       [1.2240e+01, 5.9324e+03, 8.0300e+01, 1.2660e+01, 7.0460e+02],\n",
       "       ...,\n",
       "       [1.2880e+01, 4.0304e+03, 7.2200e+01, 1.2940e+01, 5.3150e+02],\n",
       "       [1.3000e+01, 5.0678e+03, 7.7000e+01, 1.2920e+01, 6.2580e+02],\n",
       "       [1.1770e+01, 4.1896e+03, 7.3000e+01, 1.2760e+01, 5.4590e+02]])"
      ]
     },
     "execution_count": 71,
     "metadata": {},
     "output_type": "execute_result"
    }
   ],
   "source": [
    "X_train"
   ]
  },
  {
   "cell_type": "code",
   "execution_count": 72,
   "metadata": {},
   "outputs": [
    {
     "data": {
      "text/plain": [
       "array([[  12.14, 4113.2 ,   72.4 ,   12.48,  543.1 ],\n",
       "       [  13.03, 6364.7 ,   83.  ,   13.45,  729.6 ],\n",
       "       [  12.82, 4174.9 ,   73.  ,   13.15,  544.8 ],\n",
       "       ...,\n",
       "       [  10.21, 3284.6 ,   67.  ,   10.88,  470.7 ],\n",
       "       [  12.28, 4337.2 ,   74.  ,   13.06,  557.4 ],\n",
       "       [  12.44, 5331.5 ,   79.  ,   12.94,  645.2 ]])"
      ]
     },
     "execution_count": 72,
     "metadata": {},
     "output_type": "execute_result"
    }
   ],
   "source": [
    "X_test"
   ]
  },
  {
   "cell_type": "code",
   "execution_count": 76,
   "metadata": {},
   "outputs": [
    {
     "data": {
      "text/plain": [
       "(7180, 5)"
      ]
     },
     "execution_count": 76,
     "metadata": {},
     "output_type": "execute_result"
    }
   ],
   "source": [
    "X_train.shape"
   ]
  },
  {
   "cell_type": "code",
   "execution_count": 74,
   "metadata": {},
   "outputs": [
    {
     "data": {
      "text/plain": [
       "(2394, 5)"
      ]
     },
     "execution_count": 74,
     "metadata": {},
     "output_type": "execute_result"
    }
   ],
   "source": [
    "X_test.shape"
   ]
  },
  {
   "cell_type": "code",
   "execution_count": 79,
   "metadata": {},
   "outputs": [
    {
     "name": "stdout",
     "output_type": "stream",
     "text": [
      "Linear R2 train: 0.9310561545210139\n"
     ]
    }
   ],
   "source": [
    "cores = -1 # use all cores\n",
    "\n",
    "m_linear = sk.linear_model.LinearRegression(n_jobs=cores)\n",
    "m_linear.fit(X_train, y_train.reshape(-1,))\n",
    "\n",
    "R2_train = r2_score(m_linear.predict(X_test),y_test)\n",
    "print('Linear R2 train:', R2_train)"
   ]
  },
  {
   "cell_type": "code",
   "execution_count": 84,
   "metadata": {},
   "outputs": [
    {
     "data": {
      "text/plain": [
       "<matplotlib.collections.PathCollection at 0x1a29a2eb10>"
      ]
     },
     "execution_count": 84,
     "metadata": {},
     "output_type": "execute_result"
    },
    {
     "data": {
      "image/png": "[encoded data removed]",
      "text/plain": [
       "<Figure size 432x288 with 1 Axes>"
      ]
     },
     "metadata": {
      "needs_background": "light"
     },
     "output_type": "display_data"
    }
   ],
   "source": [
    "plt.scatter(y,m_linear.predict(X))"
   ]
  },
  {
   "cell_type": "code",
   "execution_count": 86,
   "metadata": {},
   "outputs": [
    {
     "data": {
      "text/plain": [
       "LinearRegression(copy_X=True, fit_intercept=True, n_jobs=-1, normalize=False)"
      ]
     },
     "execution_count": 86,
     "metadata": {},
     "output_type": "execute_result"
    }
   ],
   "source": [
    "\n",
    "## Plotting\n",
    "\n",
    "\n",
    "plt.scatter(m_linear.predict(df[test_features]),test_dataset[label],marker='x',alpha=0.5)\n",
    "\n",
    "\n",
    "\n"
   ]
  },
  {
   "cell_type": "code",
   "execution_count": 89,
   "metadata": {},
   "outputs": [
    {
     "name": "stdout",
     "output_type": "stream",
     "text": [
      "Linear R2 train: 0.9310561545210139\n"
     ]
    },
    {
     "ename": "NameError",
     "evalue": "name 'mean_absolute_percentage_error' is not defined",
     "output_type": "error",
     "traceback": [
      "\u001b[0;31m---------------------------------------------------------------------------\u001b[0m",
      "\u001b[0;31mNameError\u001b[0m                                 Traceback (most recent call last)",
      "\u001b[0;32m<ipython-input-89-d27ffa96c6f1>\u001b[0m in \u001b[0;36m<module>\u001b[0;34m\u001b[0m\n\u001b[1;32m      6\u001b[0m \u001b[0;34m\u001b[0m\u001b[0m\n\u001b[1;32m      7\u001b[0m \u001b[0;34m\u001b[0m\u001b[0m\n\u001b[0;32m----> 8\u001b[0;31m \u001b[0merror\u001b[0m \u001b[0;34m=\u001b[0m \u001b[0mmean_absolute_percentage_error\u001b[0m\u001b[0;34m(\u001b[0m\u001b[0mtest_dataset\u001b[0m\u001b[0;34m[\u001b[0m\u001b[0mlabel\u001b[0m\u001b[0;34m]\u001b[0m\u001b[0;34m,\u001b[0m\u001b[0mm_linear\u001b[0m\u001b[0;34m.\u001b[0m\u001b[0mpredict\u001b[0m\u001b[0;34m(\u001b[0m\u001b[0mtest_dataset\u001b[0m\u001b[0;34m[\u001b[0m\u001b[0mtest_features\u001b[0m\u001b[0;34m]\u001b[0m\u001b[0;34m)\u001b[0m\u001b[0;34m)\u001b[0m\u001b[0;34m\u001b[0m\u001b[0;34m\u001b[0m\u001b[0m\n\u001b[0m\u001b[1;32m      9\u001b[0m \u001b[0mprint\u001b[0m\u001b[0;34m(\u001b[0m\u001b[0;34m'Mean absolute percentage error RF'\u001b[0m\u001b[0;34m,\u001b[0m \u001b[0merror\u001b[0m\u001b[0;34m,\u001b[0m\u001b[0;34m'%'\u001b[0m\u001b[0;34m)\u001b[0m\u001b[0;34m\u001b[0m\u001b[0;34m\u001b[0m\u001b[0m\n\u001b[1;32m     10\u001b[0m \u001b[0;34m\u001b[0m\u001b[0m\n",
      "\u001b[0;31mNameError\u001b[0m: name 'mean_absolute_percentage_error' is not defined"
     ]
    }
   ],
   "source": [
    "\n",
    "m_linear = sk.linear_model.LinearRegression(n_jobs=cores)\n",
    "m_linear.fit(X_train, y_train)\n",
    "\n",
    "R2_train = r2_score(m_linear.predict(X_test),y_test)\n",
    "print('Linear R2 train:', R2_train)\n",
    "\n",
    "\n",
    "error = mean_absolute_percentage_error(test_dataset[label],m_linear.predict(test_dataset[test_features]))\n",
    "print('Mean absolute percentage error RF', error,'%')\n",
    "\n",
    "plt.scatter(m_linear.predict(test_dataset[test_features]),test_dataset[label],marker='x',alpha=0.5)\n",
    "plt.plot(test_dataset[label],test_dataset[label],color='black')\n",
    "plt.title('Linear Regression')\n",
    "plt.grid()\n",
    "\n",
    "plt.xlabel('True value - [kg/h]')\n",
    "plt.ylabel('Predicted value - [kg/h]')\n",
    "plt.show()\n",
    "\n"
   ]
  },
  {
   "cell_type": "code",
   "execution_count": null,
   "metadata": {},
   "outputs": [],
   "source": []
  }
 ],
 "metadata": {
  "kernelspec": {
   "display_name": "Python 3",
   "language": "python",
   "name": "python3"
  },
  "language_info": {
   "codemirror_mode": {
    "name": "ipython",
    "version": 3
   },
   "file_extension": ".py",
   "mimetype": "text/x-python",
   "name": "python",
   "nbconvert_exporter": "python",
   "pygments_lexer": "ipython3",
   "version": "3.7.6"
  }
 },
 "nbformat": 4,
 "nbformat_minor": 4
}
